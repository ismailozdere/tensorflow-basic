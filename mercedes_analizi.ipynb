{
  "nbformat": 4,
  "nbformat_minor": 0,
  "metadata": {
    "colab": {
      "name": "mercedes_analizi.ipynb",
      "provenance": []
    },
    "kernelspec": {
      "name": "python3",
      "display_name": "Python 3"
    },
    "language_info": {
      "name": "python"
    },
    "accelerator": "GPU"
  },
  "cells": [
    {
      "cell_type": "code",
      "metadata": {
        "id": "otvjAtgde0r7"
      },
      "source": [
        "import tensorflow as tf\n",
        "import pandas as pd\n",
        "import numpy as np\n",
        "import matplotlib.pyplot as plt\n",
        "import seaborn as sbn"
      ],
      "execution_count": 4,
      "outputs": []
    },
    {
      "cell_type": "code",
      "metadata": {
        "id": "F9J9qvHyjaJI"
      },
      "source": [
        "dataFrame = pd.read_excel(\"merc.xlsx\")"
      ],
      "execution_count": 5,
      "outputs": []
    },
    {
      "cell_type": "code",
      "metadata": {
        "colab": {
          "base_uri": "https://localhost:8080/",
          "height": 202
        },
        "id": "xnOcIHKejgDv",
        "outputId": "47f49cb7-af5d-4ccb-b33b-54b917bb8dce"
      },
      "source": [
        "dataFrame.head()"
      ],
      "execution_count": 6,
      "outputs": [
        {
          "output_type": "execute_result",
          "data": {
            "text/html": [
              "<div>\n",
              "<style scoped>\n",
              "    .dataframe tbody tr th:only-of-type {\n",
              "        vertical-align: middle;\n",
              "    }\n",
              "\n",
              "    .dataframe tbody tr th {\n",
              "        vertical-align: top;\n",
              "    }\n",
              "\n",
              "    .dataframe thead th {\n",
              "        text-align: right;\n",
              "    }\n",
              "</style>\n",
              "<table border=\"1\" class=\"dataframe\">\n",
              "  <thead>\n",
              "    <tr style=\"text-align: right;\">\n",
              "      <th></th>\n",
              "      <th>year</th>\n",
              "      <th>price</th>\n",
              "      <th>transmission</th>\n",
              "      <th>mileage</th>\n",
              "      <th>tax</th>\n",
              "      <th>mpg</th>\n",
              "      <th>engineSize</th>\n",
              "    </tr>\n",
              "  </thead>\n",
              "  <tbody>\n",
              "    <tr>\n",
              "      <th>0</th>\n",
              "      <td>2005</td>\n",
              "      <td>5200</td>\n",
              "      <td>Automatic</td>\n",
              "      <td>63000</td>\n",
              "      <td>325</td>\n",
              "      <td>32.1</td>\n",
              "      <td>1.8</td>\n",
              "    </tr>\n",
              "    <tr>\n",
              "      <th>1</th>\n",
              "      <td>2017</td>\n",
              "      <td>34948</td>\n",
              "      <td>Automatic</td>\n",
              "      <td>27000</td>\n",
              "      <td>20</td>\n",
              "      <td>61.4</td>\n",
              "      <td>2.1</td>\n",
              "    </tr>\n",
              "    <tr>\n",
              "      <th>2</th>\n",
              "      <td>2016</td>\n",
              "      <td>49948</td>\n",
              "      <td>Automatic</td>\n",
              "      <td>6200</td>\n",
              "      <td>555</td>\n",
              "      <td>28.0</td>\n",
              "      <td>5.5</td>\n",
              "    </tr>\n",
              "    <tr>\n",
              "      <th>3</th>\n",
              "      <td>2016</td>\n",
              "      <td>61948</td>\n",
              "      <td>Automatic</td>\n",
              "      <td>16000</td>\n",
              "      <td>325</td>\n",
              "      <td>30.4</td>\n",
              "      <td>4.0</td>\n",
              "    </tr>\n",
              "    <tr>\n",
              "      <th>4</th>\n",
              "      <td>2016</td>\n",
              "      <td>73948</td>\n",
              "      <td>Automatic</td>\n",
              "      <td>4000</td>\n",
              "      <td>325</td>\n",
              "      <td>30.1</td>\n",
              "      <td>4.0</td>\n",
              "    </tr>\n",
              "  </tbody>\n",
              "</table>\n",
              "</div>"
            ],
            "text/plain": [
              "   year  price transmission  mileage  tax   mpg  engineSize\n",
              "0  2005   5200    Automatic    63000  325  32.1         1.8\n",
              "1  2017  34948    Automatic    27000   20  61.4         2.1\n",
              "2  2016  49948    Automatic     6200  555  28.0         5.5\n",
              "3  2016  61948    Automatic    16000  325  30.4         4.0\n",
              "4  2016  73948    Automatic     4000  325  30.1         4.0"
            ]
          },
          "metadata": {
            "tags": []
          },
          "execution_count": 6
        }
      ]
    },
    {
      "cell_type": "code",
      "metadata": {
        "colab": {
          "base_uri": "https://localhost:8080/",
          "height": 294
        },
        "id": "qkDiozDPjlC3",
        "outputId": "9e4f6295-45e0-4585-ec1c-d2a28c7eb606"
      },
      "source": [
        "dataFrame.describe()"
      ],
      "execution_count": 7,
      "outputs": [
        {
          "output_type": "execute_result",
          "data": {
            "text/html": [
              "<div>\n",
              "<style scoped>\n",
              "    .dataframe tbody tr th:only-of-type {\n",
              "        vertical-align: middle;\n",
              "    }\n",
              "\n",
              "    .dataframe tbody tr th {\n",
              "        vertical-align: top;\n",
              "    }\n",
              "\n",
              "    .dataframe thead th {\n",
              "        text-align: right;\n",
              "    }\n",
              "</style>\n",
              "<table border=\"1\" class=\"dataframe\">\n",
              "  <thead>\n",
              "    <tr style=\"text-align: right;\">\n",
              "      <th></th>\n",
              "      <th>year</th>\n",
              "      <th>price</th>\n",
              "      <th>mileage</th>\n",
              "      <th>tax</th>\n",
              "      <th>mpg</th>\n",
              "      <th>engineSize</th>\n",
              "    </tr>\n",
              "  </thead>\n",
              "  <tbody>\n",
              "    <tr>\n",
              "      <th>count</th>\n",
              "      <td>13119.000000</td>\n",
              "      <td>13119.000000</td>\n",
              "      <td>13119.000000</td>\n",
              "      <td>13119.000000</td>\n",
              "      <td>13119.000000</td>\n",
              "      <td>13119.000000</td>\n",
              "    </tr>\n",
              "    <tr>\n",
              "      <th>mean</th>\n",
              "      <td>2017.296288</td>\n",
              "      <td>24698.596920</td>\n",
              "      <td>21949.559037</td>\n",
              "      <td>129.972178</td>\n",
              "      <td>55.155843</td>\n",
              "      <td>2.071530</td>\n",
              "    </tr>\n",
              "    <tr>\n",
              "      <th>std</th>\n",
              "      <td>2.224709</td>\n",
              "      <td>11842.675542</td>\n",
              "      <td>21176.512267</td>\n",
              "      <td>65.260286</td>\n",
              "      <td>15.220082</td>\n",
              "      <td>0.572426</td>\n",
              "    </tr>\n",
              "    <tr>\n",
              "      <th>min</th>\n",
              "      <td>1970.000000</td>\n",
              "      <td>650.000000</td>\n",
              "      <td>1.000000</td>\n",
              "      <td>0.000000</td>\n",
              "      <td>1.100000</td>\n",
              "      <td>0.000000</td>\n",
              "    </tr>\n",
              "    <tr>\n",
              "      <th>25%</th>\n",
              "      <td>2016.000000</td>\n",
              "      <td>17450.000000</td>\n",
              "      <td>6097.500000</td>\n",
              "      <td>125.000000</td>\n",
              "      <td>45.600000</td>\n",
              "      <td>1.800000</td>\n",
              "    </tr>\n",
              "    <tr>\n",
              "      <th>50%</th>\n",
              "      <td>2018.000000</td>\n",
              "      <td>22480.000000</td>\n",
              "      <td>15189.000000</td>\n",
              "      <td>145.000000</td>\n",
              "      <td>56.500000</td>\n",
              "      <td>2.000000</td>\n",
              "    </tr>\n",
              "    <tr>\n",
              "      <th>75%</th>\n",
              "      <td>2019.000000</td>\n",
              "      <td>28980.000000</td>\n",
              "      <td>31779.500000</td>\n",
              "      <td>145.000000</td>\n",
              "      <td>64.200000</td>\n",
              "      <td>2.100000</td>\n",
              "    </tr>\n",
              "    <tr>\n",
              "      <th>max</th>\n",
              "      <td>2020.000000</td>\n",
              "      <td>159999.000000</td>\n",
              "      <td>259000.000000</td>\n",
              "      <td>580.000000</td>\n",
              "      <td>217.300000</td>\n",
              "      <td>6.200000</td>\n",
              "    </tr>\n",
              "  </tbody>\n",
              "</table>\n",
              "</div>"
            ],
            "text/plain": [
              "               year          price  ...           mpg    engineSize\n",
              "count  13119.000000   13119.000000  ...  13119.000000  13119.000000\n",
              "mean    2017.296288   24698.596920  ...     55.155843      2.071530\n",
              "std        2.224709   11842.675542  ...     15.220082      0.572426\n",
              "min     1970.000000     650.000000  ...      1.100000      0.000000\n",
              "25%     2016.000000   17450.000000  ...     45.600000      1.800000\n",
              "50%     2018.000000   22480.000000  ...     56.500000      2.000000\n",
              "75%     2019.000000   28980.000000  ...     64.200000      2.100000\n",
              "max     2020.000000  159999.000000  ...    217.300000      6.200000\n",
              "\n",
              "[8 rows x 6 columns]"
            ]
          },
          "metadata": {
            "tags": []
          },
          "execution_count": 7
        }
      ]
    },
    {
      "cell_type": "code",
      "metadata": {
        "colab": {
          "base_uri": "https://localhost:8080/"
        },
        "id": "CAaoiQhXolWe",
        "outputId": "96adc377-bddd-45a1-9911-8f66cca5155c"
      },
      "source": [
        "dataFrame.isnull().sum()"
      ],
      "execution_count": 8,
      "outputs": [
        {
          "output_type": "execute_result",
          "data": {
            "text/plain": [
              "year            0\n",
              "price           0\n",
              "transmission    0\n",
              "mileage         0\n",
              "tax             0\n",
              "mpg             0\n",
              "engineSize      0\n",
              "dtype: int64"
            ]
          },
          "metadata": {
            "tags": []
          },
          "execution_count": 8
        }
      ]
    },
    {
      "cell_type": "code",
      "metadata": {
        "colab": {
          "base_uri": "https://localhost:8080/",
          "height": 404
        },
        "id": "cADiv9ZOpqmt",
        "outputId": "2aa30c47-0202-4e7f-ca7e-c3b47d0357c7"
      },
      "source": [
        "plt.figure(figsize=(7,5))\n",
        "sbn.displot(dataFrame[\"price\"])"
      ],
      "execution_count": 9,
      "outputs": [
        {
          "output_type": "execute_result",
          "data": {
            "text/plain": [
              "<seaborn.axisgrid.FacetGrid at 0x7f0f4cae5250>"
            ]
          },
          "metadata": {
            "tags": []
          },
          "execution_count": 9
        },
        {
          "output_type": "display_data",
          "data": {
            "text/plain": [
              "<Figure size 504x360 with 0 Axes>"
            ]
          },
          "metadata": {
            "tags": []
          }
        },
        {
          "output_type": "display_data",
          "data": {
            "image/png": "[encoded data removed]",
            "text/plain": [
              "<Figure size 360x360 with 1 Axes>"
            ]
          },
          "metadata": {
            "tags": [],
            "needs_background": "light"
          }
        }
      ]
    },
    {
      "cell_type": "code",
      "metadata": {
        "colab": {
          "base_uri": "https://localhost:8080/",
          "height": 351
        },
        "id": "lZl2TEH0tCg8",
        "outputId": "7059f0ec-2707-42cd-eaa7-ce19b0ba848e"
      },
      "source": [
        "sbn.countplot(dataFrame[\"year\"])"
      ],
      "execution_count": 10,
      "outputs": [
        {
          "output_type": "stream",
          "text": [
            "/usr/local/lib/python3.7/dist-packages/seaborn/_decorators.py:43: FutureWarning: Pass the following variable as a keyword arg: x. From version 0.12, the only valid positional argument will be `data`, and passing other arguments without an explicit keyword will result in an error or misinterpretation.\n",
            "  FutureWarning\n"
          ],
          "name": "stderr"
        },
        {
          "output_type": "execute_result",
          "data": {
            "text/plain": [
              "<matplotlib.axes._subplots.AxesSubplot at 0x7f0f4cae5f10>"
            ]
          },
          "metadata": {
            "tags": []
          },
          "execution_count": 10
        },
        {
          "output_type": "display_data",
          "data": {
            "image/png": "[encoded data removed]",
            "text/plain": [
              "<Figure size 432x288 with 1 Axes>"
            ]
          },
          "metadata": {
            "tags": [],
            "needs_background": "light"
          }
        }
      ]
    },
    {
      "cell_type": "code",
      "metadata": {
        "colab": {
          "base_uri": "https://localhost:8080/",
          "height": 233
        },
        "id": "1TGSZSqWuURO",
        "outputId": "e1c01394-60ad-454e-f99b-72dd688ec1b5"
      },
      "source": [
        "dataFrame.corr()"
      ],
      "execution_count": 11,
      "outputs": [
        {
          "output_type": "execute_result",
          "data": {
            "text/html": [
              "<div>\n",
              "<style scoped>\n",
              "    .dataframe tbody tr th:only-of-type {\n",
              "        vertical-align: middle;\n",
              "    }\n",
              "\n",
              "    .dataframe tbody tr th {\n",
              "        vertical-align: top;\n",
              "    }\n",
              "\n",
              "    .dataframe thead th {\n",
              "        text-align: right;\n",
              "    }\n",
              "</style>\n",
              "<table border=\"1\" class=\"dataframe\">\n",
              "  <thead>\n",
              "    <tr style=\"text-align: right;\">\n",
              "      <th></th>\n",
              "      <th>year</th>\n",
              "      <th>price</th>\n",
              "      <th>mileage</th>\n",
              "      <th>tax</th>\n",
              "      <th>mpg</th>\n",
              "      <th>engineSize</th>\n",
              "    </tr>\n",
              "  </thead>\n",
              "  <tbody>\n",
              "    <tr>\n",
              "      <th>year</th>\n",
              "      <td>1.000000</td>\n",
              "      <td>0.520712</td>\n",
              "      <td>-0.738027</td>\n",
              "      <td>0.012480</td>\n",
              "      <td>-0.094626</td>\n",
              "      <td>-0.142147</td>\n",
              "    </tr>\n",
              "    <tr>\n",
              "      <th>price</th>\n",
              "      <td>0.520712</td>\n",
              "      <td>1.000000</td>\n",
              "      <td>-0.537214</td>\n",
              "      <td>0.268717</td>\n",
              "      <td>-0.438445</td>\n",
              "      <td>0.516126</td>\n",
              "    </tr>\n",
              "    <tr>\n",
              "      <th>mileage</th>\n",
              "      <td>-0.738027</td>\n",
              "      <td>-0.537214</td>\n",
              "      <td>1.000000</td>\n",
              "      <td>-0.160223</td>\n",
              "      <td>0.202850</td>\n",
              "      <td>0.063652</td>\n",
              "    </tr>\n",
              "    <tr>\n",
              "      <th>tax</th>\n",
              "      <td>0.012480</td>\n",
              "      <td>0.268717</td>\n",
              "      <td>-0.160223</td>\n",
              "      <td>1.000000</td>\n",
              "      <td>-0.513742</td>\n",
              "      <td>0.338341</td>\n",
              "    </tr>\n",
              "    <tr>\n",
              "      <th>mpg</th>\n",
              "      <td>-0.094626</td>\n",
              "      <td>-0.438445</td>\n",
              "      <td>0.202850</td>\n",
              "      <td>-0.513742</td>\n",
              "      <td>1.000000</td>\n",
              "      <td>-0.339862</td>\n",
              "    </tr>\n",
              "    <tr>\n",
              "      <th>engineSize</th>\n",
              "      <td>-0.142147</td>\n",
              "      <td>0.516126</td>\n",
              "      <td>0.063652</td>\n",
              "      <td>0.338341</td>\n",
              "      <td>-0.339862</td>\n",
              "      <td>1.000000</td>\n",
              "    </tr>\n",
              "  </tbody>\n",
              "</table>\n",
              "</div>"
            ],
            "text/plain": [
              "                year     price   mileage       tax       mpg  engineSize\n",
              "year        1.000000  0.520712 -0.738027  0.012480 -0.094626   -0.142147\n",
              "price       0.520712  1.000000 -0.537214  0.268717 -0.438445    0.516126\n",
              "mileage    -0.738027 -0.537214  1.000000 -0.160223  0.202850    0.063652\n",
              "tax         0.012480  0.268717 -0.160223  1.000000 -0.513742    0.338341\n",
              "mpg        -0.094626 -0.438445  0.202850 -0.513742  1.000000   -0.339862\n",
              "engineSize -0.142147  0.516126  0.063652  0.338341 -0.339862    1.000000"
            ]
          },
          "metadata": {
            "tags": []
          },
          "execution_count": 11
        }
      ]
    },
    {
      "cell_type": "code",
      "metadata": {
        "colab": {
          "base_uri": "https://localhost:8080/"
        },
        "id": "_7yPtJlsukpe",
        "outputId": "ca589b41-e3f5-4da8-ff8f-b1ea13623359"
      },
      "source": [
        "dataFrame.corr()[\"price\"].sort_values()"
      ],
      "execution_count": 12,
      "outputs": [
        {
          "output_type": "execute_result",
          "data": {
            "text/plain": [
              "mileage      -0.537214\n",
              "mpg          -0.438445\n",
              "tax           0.268717\n",
              "engineSize    0.516126\n",
              "year          0.520712\n",
              "price         1.000000\n",
              "Name: price, dtype: float64"
            ]
          },
          "metadata": {
            "tags": []
          },
          "execution_count": 12
        }
      ]
    },
    {
      "cell_type": "code",
      "metadata": {
        "colab": {
          "base_uri": "https://localhost:8080/",
          "height": 297
        },
        "id": "BfWZ4uhmu1Nc",
        "outputId": "bfc66dda-6a53-4282-a9f9-03a605d55776"
      },
      "source": [
        "sbn.scatterplot(x= \"mileage\", y = \"price\" , data= dataFrame)"
      ],
      "execution_count": 13,
      "outputs": [
        {
          "output_type": "execute_result",
          "data": {
            "text/plain": [
              "<matplotlib.axes._subplots.AxesSubplot at 0x7f0f4330cdd0>"
            ]
          },
          "metadata": {
            "tags": []
          },
          "execution_count": 13
        },
        {
          "output_type": "display_data",
          "data": {
            "image/png": "[encoded data removed]",
            "text/plain": [
              "<Figure size 432x288 with 1 Axes>"
            ]
          },
          "metadata": {
            "tags": [],
            "needs_background": "light"
          }
        }
      ]
    },
    {
      "cell_type": "code",
      "metadata": {
        "colab": {
          "base_uri": "https://localhost:8080/",
          "height": 662
        },
        "id": "f3K4LWbj18X1",
        "outputId": "0c57164e-81e0-46af-db92-d38f38f3199d"
      },
      "source": [
        "dataFrame.sort_values(\"price\", ascending= False).head(20)"
      ],
      "execution_count": 14,
      "outputs": [
        {
          "output_type": "execute_result",
          "data": {
            "text/html": [
              "<div>\n",
              "<style scoped>\n",
              "    .dataframe tbody tr th:only-of-type {\n",
              "        vertical-align: middle;\n",
              "    }\n",
              "\n",
              "    .dataframe tbody tr th {\n",
              "        vertical-align: top;\n",
              "    }\n",
              "\n",
              "    .dataframe thead th {\n",
              "        text-align: right;\n",
              "    }\n",
              "</style>\n",
              "<table border=\"1\" class=\"dataframe\">\n",
              "  <thead>\n",
              "    <tr style=\"text-align: right;\">\n",
              "      <th></th>\n",
              "      <th>year</th>\n",
              "      <th>price</th>\n",
              "      <th>transmission</th>\n",
              "      <th>mileage</th>\n",
              "      <th>tax</th>\n",
              "      <th>mpg</th>\n",
              "      <th>engineSize</th>\n",
              "    </tr>\n",
              "  </thead>\n",
              "  <tbody>\n",
              "    <tr>\n",
              "      <th>6199</th>\n",
              "      <td>2020</td>\n",
              "      <td>159999</td>\n",
              "      <td>Semi-Auto</td>\n",
              "      <td>1350</td>\n",
              "      <td>145</td>\n",
              "      <td>21.4</td>\n",
              "      <td>4.0</td>\n",
              "    </tr>\n",
              "    <tr>\n",
              "      <th>10044</th>\n",
              "      <td>2020</td>\n",
              "      <td>154998</td>\n",
              "      <td>Automatic</td>\n",
              "      <td>3000</td>\n",
              "      <td>150</td>\n",
              "      <td>21.4</td>\n",
              "      <td>4.0</td>\n",
              "    </tr>\n",
              "    <tr>\n",
              "      <th>5</th>\n",
              "      <td>2011</td>\n",
              "      <td>149948</td>\n",
              "      <td>Automatic</td>\n",
              "      <td>3000</td>\n",
              "      <td>570</td>\n",
              "      <td>21.4</td>\n",
              "      <td>6.2</td>\n",
              "    </tr>\n",
              "    <tr>\n",
              "      <th>8737</th>\n",
              "      <td>2019</td>\n",
              "      <td>140319</td>\n",
              "      <td>Semi-Auto</td>\n",
              "      <td>785</td>\n",
              "      <td>150</td>\n",
              "      <td>22.1</td>\n",
              "      <td>4.0</td>\n",
              "    </tr>\n",
              "    <tr>\n",
              "      <th>6386</th>\n",
              "      <td>2018</td>\n",
              "      <td>139995</td>\n",
              "      <td>Semi-Auto</td>\n",
              "      <td>13046</td>\n",
              "      <td>145</td>\n",
              "      <td>21.4</td>\n",
              "      <td>4.0</td>\n",
              "    </tr>\n",
              "    <tr>\n",
              "      <th>8</th>\n",
              "      <td>2019</td>\n",
              "      <td>139948</td>\n",
              "      <td>Automatic</td>\n",
              "      <td>12000</td>\n",
              "      <td>145</td>\n",
              "      <td>21.4</td>\n",
              "      <td>4.0</td>\n",
              "    </tr>\n",
              "    <tr>\n",
              "      <th>9133</th>\n",
              "      <td>2019</td>\n",
              "      <td>139559</td>\n",
              "      <td>Semi-Auto</td>\n",
              "      <td>1000</td>\n",
              "      <td>145</td>\n",
              "      <td>22.1</td>\n",
              "      <td>4.0</td>\n",
              "    </tr>\n",
              "    <tr>\n",
              "      <th>8821</th>\n",
              "      <td>2020</td>\n",
              "      <td>138439</td>\n",
              "      <td>Semi-Auto</td>\n",
              "      <td>1000</td>\n",
              "      <td>145</td>\n",
              "      <td>22.1</td>\n",
              "      <td>4.0</td>\n",
              "    </tr>\n",
              "    <tr>\n",
              "      <th>5902</th>\n",
              "      <td>2018</td>\n",
              "      <td>135771</td>\n",
              "      <td>Semi-Auto</td>\n",
              "      <td>19000</td>\n",
              "      <td>145</td>\n",
              "      <td>21.4</td>\n",
              "      <td>4.0</td>\n",
              "    </tr>\n",
              "    <tr>\n",
              "      <th>7864</th>\n",
              "      <td>2018</td>\n",
              "      <td>135124</td>\n",
              "      <td>Semi-Auto</td>\n",
              "      <td>18234</td>\n",
              "      <td>150</td>\n",
              "      <td>21.4</td>\n",
              "      <td>4.0</td>\n",
              "    </tr>\n",
              "    <tr>\n",
              "      <th>8673</th>\n",
              "      <td>2019</td>\n",
              "      <td>134219</td>\n",
              "      <td>Semi-Auto</td>\n",
              "      <td>1000</td>\n",
              "      <td>145</td>\n",
              "      <td>24.8</td>\n",
              "      <td>4.0</td>\n",
              "    </tr>\n",
              "    <tr>\n",
              "      <th>6210</th>\n",
              "      <td>2019</td>\n",
              "      <td>129990</td>\n",
              "      <td>Automatic</td>\n",
              "      <td>1000</td>\n",
              "      <td>145</td>\n",
              "      <td>24.8</td>\n",
              "      <td>4.0</td>\n",
              "    </tr>\n",
              "    <tr>\n",
              "      <th>4759</th>\n",
              "      <td>2019</td>\n",
              "      <td>126000</td>\n",
              "      <td>Automatic</td>\n",
              "      <td>250</td>\n",
              "      <td>145</td>\n",
              "      <td>24.6</td>\n",
              "      <td>4.0</td>\n",
              "    </tr>\n",
              "    <tr>\n",
              "      <th>2647</th>\n",
              "      <td>2019</td>\n",
              "      <td>125796</td>\n",
              "      <td>Automatic</td>\n",
              "      <td>637</td>\n",
              "      <td>145</td>\n",
              "      <td>24.8</td>\n",
              "      <td>4.0</td>\n",
              "    </tr>\n",
              "    <tr>\n",
              "      <th>6223</th>\n",
              "      <td>2019</td>\n",
              "      <td>124999</td>\n",
              "      <td>Automatic</td>\n",
              "      <td>1500</td>\n",
              "      <td>145</td>\n",
              "      <td>31.7</td>\n",
              "      <td>4.0</td>\n",
              "    </tr>\n",
              "    <tr>\n",
              "      <th>4094</th>\n",
              "      <td>2019</td>\n",
              "      <td>124366</td>\n",
              "      <td>Semi-Auto</td>\n",
              "      <td>880</td>\n",
              "      <td>145</td>\n",
              "      <td>24.8</td>\n",
              "      <td>4.0</td>\n",
              "    </tr>\n",
              "    <tr>\n",
              "      <th>2629</th>\n",
              "      <td>2019</td>\n",
              "      <td>123846</td>\n",
              "      <td>Semi-Auto</td>\n",
              "      <td>2951</td>\n",
              "      <td>145</td>\n",
              "      <td>22.1</td>\n",
              "      <td>4.0</td>\n",
              "    </tr>\n",
              "    <tr>\n",
              "      <th>7134</th>\n",
              "      <td>2019</td>\n",
              "      <td>115359</td>\n",
              "      <td>Semi-Auto</td>\n",
              "      <td>1000</td>\n",
              "      <td>145</td>\n",
              "      <td>30.1</td>\n",
              "      <td>4.0</td>\n",
              "    </tr>\n",
              "    <tr>\n",
              "      <th>9159</th>\n",
              "      <td>2019</td>\n",
              "      <td>114199</td>\n",
              "      <td>Semi-Auto</td>\n",
              "      <td>891</td>\n",
              "      <td>145</td>\n",
              "      <td>22.6</td>\n",
              "      <td>4.0</td>\n",
              "    </tr>\n",
              "    <tr>\n",
              "      <th>1980</th>\n",
              "      <td>2019</td>\n",
              "      <td>109995</td>\n",
              "      <td>Semi-Auto</td>\n",
              "      <td>4688</td>\n",
              "      <td>150</td>\n",
              "      <td>31.7</td>\n",
              "      <td>4.0</td>\n",
              "    </tr>\n",
              "  </tbody>\n",
              "</table>\n",
              "</div>"
            ],
            "text/plain": [
              "       year   price transmission  mileage  tax   mpg  engineSize\n",
              "6199   2020  159999    Semi-Auto     1350  145  21.4         4.0\n",
              "10044  2020  154998    Automatic     3000  150  21.4         4.0\n",
              "5      2011  149948    Automatic     3000  570  21.4         6.2\n",
              "8737   2019  140319    Semi-Auto      785  150  22.1         4.0\n",
              "6386   2018  139995    Semi-Auto    13046  145  21.4         4.0\n",
              "8      2019  139948    Automatic    12000  145  21.4         4.0\n",
              "9133   2019  139559    Semi-Auto     1000  145  22.1         4.0\n",
              "8821   2020  138439    Semi-Auto     1000  145  22.1         4.0\n",
              "5902   2018  135771    Semi-Auto    19000  145  21.4         4.0\n",
              "7864   2018  135124    Semi-Auto    18234  150  21.4         4.0\n",
              "8673   2019  134219    Semi-Auto     1000  145  24.8         4.0\n",
              "6210   2019  129990    Automatic     1000  145  24.8         4.0\n",
              "4759   2019  126000    Automatic      250  145  24.6         4.0\n",
              "2647   2019  125796    Automatic      637  145  24.8         4.0\n",
              "6223   2019  124999    Automatic     1500  145  31.7         4.0\n",
              "4094   2019  124366    Semi-Auto      880  145  24.8         4.0\n",
              "2629   2019  123846    Semi-Auto     2951  145  22.1         4.0\n",
              "7134   2019  115359    Semi-Auto     1000  145  30.1         4.0\n",
              "9159   2019  114199    Semi-Auto      891  145  22.6         4.0\n",
              "1980   2019  109995    Semi-Auto     4688  150  31.7         4.0"
            ]
          },
          "metadata": {
            "tags": []
          },
          "execution_count": 14
        }
      ]
    },
    {
      "cell_type": "code",
      "metadata": {
        "colab": {
          "base_uri": "https://localhost:8080/",
          "height": 662
        },
        "id": "EgmFcSdb2SZ9",
        "outputId": "2cb957c9-195f-4fe5-9ebc-b27317d00527"
      },
      "source": [
        "dataFrame.sort_values(\"price\", ascending= True).head(20)"
      ],
      "execution_count": 15,
      "outputs": [
        {
          "output_type": "execute_result",
          "data": {
            "text/html": [
              "<div>\n",
              "<style scoped>\n",
              "    .dataframe tbody tr th:only-of-type {\n",
              "        vertical-align: middle;\n",
              "    }\n",
              "\n",
              "    .dataframe tbody tr th {\n",
              "        vertical-align: top;\n",
              "    }\n",
              "\n",
              "    .dataframe thead th {\n",
              "        text-align: right;\n",
              "    }\n",
              "</style>\n",
              "<table border=\"1\" class=\"dataframe\">\n",
              "  <thead>\n",
              "    <tr style=\"text-align: right;\">\n",
              "      <th></th>\n",
              "      <th>year</th>\n",
              "      <th>price</th>\n",
              "      <th>transmission</th>\n",
              "      <th>mileage</th>\n",
              "      <th>tax</th>\n",
              "      <th>mpg</th>\n",
              "      <th>engineSize</th>\n",
              "    </tr>\n",
              "  </thead>\n",
              "  <tbody>\n",
              "    <tr>\n",
              "      <th>11816</th>\n",
              "      <td>2003</td>\n",
              "      <td>650</td>\n",
              "      <td>Manual</td>\n",
              "      <td>109090</td>\n",
              "      <td>235</td>\n",
              "      <td>40.0</td>\n",
              "      <td>1.4</td>\n",
              "    </tr>\n",
              "    <tr>\n",
              "      <th>12008</th>\n",
              "      <td>2010</td>\n",
              "      <td>1350</td>\n",
              "      <td>Manual</td>\n",
              "      <td>116126</td>\n",
              "      <td>145</td>\n",
              "      <td>54.3</td>\n",
              "      <td>2.0</td>\n",
              "    </tr>\n",
              "    <tr>\n",
              "      <th>11765</th>\n",
              "      <td>2000</td>\n",
              "      <td>1490</td>\n",
              "      <td>Automatic</td>\n",
              "      <td>87000</td>\n",
              "      <td>265</td>\n",
              "      <td>27.2</td>\n",
              "      <td>3.2</td>\n",
              "    </tr>\n",
              "    <tr>\n",
              "      <th>11549</th>\n",
              "      <td>2002</td>\n",
              "      <td>1495</td>\n",
              "      <td>Automatic</td>\n",
              "      <td>13800</td>\n",
              "      <td>305</td>\n",
              "      <td>39.8</td>\n",
              "      <td>2.7</td>\n",
              "    </tr>\n",
              "    <tr>\n",
              "      <th>12594</th>\n",
              "      <td>2004</td>\n",
              "      <td>1495</td>\n",
              "      <td>Manual</td>\n",
              "      <td>119000</td>\n",
              "      <td>300</td>\n",
              "      <td>34.5</td>\n",
              "      <td>1.8</td>\n",
              "    </tr>\n",
              "    <tr>\n",
              "      <th>11174</th>\n",
              "      <td>2001</td>\n",
              "      <td>1695</td>\n",
              "      <td>Automatic</td>\n",
              "      <td>108800</td>\n",
              "      <td>325</td>\n",
              "      <td>31.7</td>\n",
              "      <td>3.2</td>\n",
              "    </tr>\n",
              "    <tr>\n",
              "      <th>12710</th>\n",
              "      <td>2006</td>\n",
              "      <td>1695</td>\n",
              "      <td>Automatic</td>\n",
              "      <td>153000</td>\n",
              "      <td>300</td>\n",
              "      <td>33.6</td>\n",
              "      <td>1.8</td>\n",
              "    </tr>\n",
              "    <tr>\n",
              "      <th>12766</th>\n",
              "      <td>2004</td>\n",
              "      <td>1780</td>\n",
              "      <td>Automatic</td>\n",
              "      <td>118000</td>\n",
              "      <td>265</td>\n",
              "      <td>41.5</td>\n",
              "      <td>2.2</td>\n",
              "    </tr>\n",
              "    <tr>\n",
              "      <th>12009</th>\n",
              "      <td>2007</td>\n",
              "      <td>1800</td>\n",
              "      <td>Automatic</td>\n",
              "      <td>84000</td>\n",
              "      <td>200</td>\n",
              "      <td>42.8</td>\n",
              "      <td>1.5</td>\n",
              "    </tr>\n",
              "    <tr>\n",
              "      <th>11764</th>\n",
              "      <td>1998</td>\n",
              "      <td>1990</td>\n",
              "      <td>Automatic</td>\n",
              "      <td>99300</td>\n",
              "      <td>265</td>\n",
              "      <td>32.1</td>\n",
              "      <td>2.3</td>\n",
              "    </tr>\n",
              "    <tr>\n",
              "      <th>11808</th>\n",
              "      <td>1998</td>\n",
              "      <td>1990</td>\n",
              "      <td>Automatic</td>\n",
              "      <td>113557</td>\n",
              "      <td>265</td>\n",
              "      <td>32.1</td>\n",
              "      <td>2.3</td>\n",
              "    </tr>\n",
              "    <tr>\n",
              "      <th>11383</th>\n",
              "      <td>2005</td>\n",
              "      <td>1995</td>\n",
              "      <td>Automatic</td>\n",
              "      <td>105000</td>\n",
              "      <td>260</td>\n",
              "      <td>43.5</td>\n",
              "      <td>2.1</td>\n",
              "    </tr>\n",
              "    <tr>\n",
              "      <th>11378</th>\n",
              "      <td>2004</td>\n",
              "      <td>1995</td>\n",
              "      <td>Semi-Auto</td>\n",
              "      <td>165000</td>\n",
              "      <td>330</td>\n",
              "      <td>20.0</td>\n",
              "      <td>3.7</td>\n",
              "    </tr>\n",
              "    <tr>\n",
              "      <th>11857</th>\n",
              "      <td>2002</td>\n",
              "      <td>2140</td>\n",
              "      <td>Automatic</td>\n",
              "      <td>52700</td>\n",
              "      <td>325</td>\n",
              "      <td>31.4</td>\n",
              "      <td>2.0</td>\n",
              "    </tr>\n",
              "    <tr>\n",
              "      <th>11906</th>\n",
              "      <td>2007</td>\n",
              "      <td>2478</td>\n",
              "      <td>Automatic</td>\n",
              "      <td>81000</td>\n",
              "      <td>160</td>\n",
              "      <td>49.6</td>\n",
              "      <td>2.0</td>\n",
              "    </tr>\n",
              "    <tr>\n",
              "      <th>11795</th>\n",
              "      <td>2005</td>\n",
              "      <td>2490</td>\n",
              "      <td>Automatic</td>\n",
              "      <td>101980</td>\n",
              "      <td>200</td>\n",
              "      <td>47.9</td>\n",
              "      <td>2.0</td>\n",
              "    </tr>\n",
              "    <tr>\n",
              "      <th>12765</th>\n",
              "      <td>2004</td>\n",
              "      <td>2495</td>\n",
              "      <td>Automatic</td>\n",
              "      <td>104000</td>\n",
              "      <td>325</td>\n",
              "      <td>31.7</td>\n",
              "      <td>1.8</td>\n",
              "    </tr>\n",
              "    <tr>\n",
              "      <th>11943</th>\n",
              "      <td>2005</td>\n",
              "      <td>2690</td>\n",
              "      <td>Automatic</td>\n",
              "      <td>109000</td>\n",
              "      <td>325</td>\n",
              "      <td>32.1</td>\n",
              "      <td>1.8</td>\n",
              "    </tr>\n",
              "    <tr>\n",
              "      <th>11263</th>\n",
              "      <td>2007</td>\n",
              "      <td>2795</td>\n",
              "      <td>Manual</td>\n",
              "      <td>79485</td>\n",
              "      <td>200</td>\n",
              "      <td>45.6</td>\n",
              "      <td>1.5</td>\n",
              "    </tr>\n",
              "    <tr>\n",
              "      <th>49</th>\n",
              "      <td>2006</td>\n",
              "      <td>2880</td>\n",
              "      <td>Automatic</td>\n",
              "      <td>66000</td>\n",
              "      <td>160</td>\n",
              "      <td>52.3</td>\n",
              "      <td>2.0</td>\n",
              "    </tr>\n",
              "  </tbody>\n",
              "</table>\n",
              "</div>"
            ],
            "text/plain": [
              "       year  price transmission  mileage  tax   mpg  engineSize\n",
              "11816  2003    650       Manual   109090  235  40.0         1.4\n",
              "12008  2010   1350       Manual   116126  145  54.3         2.0\n",
              "11765  2000   1490    Automatic    87000  265  27.2         3.2\n",
              "11549  2002   1495    Automatic    13800  305  39.8         2.7\n",
              "12594  2004   1495       Manual   119000  300  34.5         1.8\n",
              "11174  2001   1695    Automatic   108800  325  31.7         3.2\n",
              "12710  2006   1695    Automatic   153000  300  33.6         1.8\n",
              "12766  2004   1780    Automatic   118000  265  41.5         2.2\n",
              "12009  2007   1800    Automatic    84000  200  42.8         1.5\n",
              "11764  1998   1990    Automatic    99300  265  32.1         2.3\n",
              "11808  1998   1990    Automatic   113557  265  32.1         2.3\n",
              "11383  2005   1995    Automatic   105000  260  43.5         2.1\n",
              "11378  2004   1995    Semi-Auto   165000  330  20.0         3.7\n",
              "11857  2002   2140    Automatic    52700  325  31.4         2.0\n",
              "11906  2007   2478    Automatic    81000  160  49.6         2.0\n",
              "11795  2005   2490    Automatic   101980  200  47.9         2.0\n",
              "12765  2004   2495    Automatic   104000  325  31.7         1.8\n",
              "11943  2005   2690    Automatic   109000  325  32.1         1.8\n",
              "11263  2007   2795       Manual    79485  200  45.6         1.5\n",
              "49     2006   2880    Automatic    66000  160  52.3         2.0"
            ]
          },
          "metadata": {
            "tags": []
          },
          "execution_count": 15
        }
      ]
    },
    {
      "cell_type": "code",
      "metadata": {
        "colab": {
          "base_uri": "https://localhost:8080/"
        },
        "id": "PAigNJyo2sC0",
        "outputId": "14b50e63-bce8-4d5b-af3c-28a8f9ec0e9f"
      },
      "source": [
        "len(dataFrame)"
      ],
      "execution_count": 16,
      "outputs": [
        {
          "output_type": "execute_result",
          "data": {
            "text/plain": [
              "13119"
            ]
          },
          "metadata": {
            "tags": []
          },
          "execution_count": 16
        }
      ]
    },
    {
      "cell_type": "code",
      "metadata": {
        "colab": {
          "base_uri": "https://localhost:8080/"
        },
        "id": "J6JFqzGh29M0",
        "outputId": "ae20769a-08bc-4f4a-fa4a-2c1c1a10c690"
      },
      "source": [
        "len(dataFrame) * 0.01"
      ],
      "execution_count": 17,
      "outputs": [
        {
          "output_type": "execute_result",
          "data": {
            "text/plain": [
              "131.19"
            ]
          },
          "metadata": {
            "tags": []
          },
          "execution_count": 17
        }
      ]
    },
    {
      "cell_type": "code",
      "metadata": {
        "id": "mZutDz7W3HBV"
      },
      "source": [
        "doksanDokuzDF = dataFrame.sort_values(\"price\", ascending= False).iloc[131:]"
      ],
      "execution_count": 18,
      "outputs": []
    },
    {
      "cell_type": "code",
      "metadata": {
        "colab": {
          "base_uri": "https://localhost:8080/",
          "height": 294
        },
        "id": "FOkBj4lc3fJc",
        "outputId": "a5343ca3-e9ca-4e7d-f59d-48e0c9dcc436"
      },
      "source": [
        "doksanDokuzDF.describe()"
      ],
      "execution_count": 19,
      "outputs": [
        {
          "output_type": "execute_result",
          "data": {
            "text/html": [
              "<div>\n",
              "<style scoped>\n",
              "    .dataframe tbody tr th:only-of-type {\n",
              "        vertical-align: middle;\n",
              "    }\n",
              "\n",
              "    .dataframe tbody tr th {\n",
              "        vertical-align: top;\n",
              "    }\n",
              "\n",
              "    .dataframe thead th {\n",
              "        text-align: right;\n",
              "    }\n",
              "</style>\n",
              "<table border=\"1\" class=\"dataframe\">\n",
              "  <thead>\n",
              "    <tr style=\"text-align: right;\">\n",
              "      <th></th>\n",
              "      <th>year</th>\n",
              "      <th>price</th>\n",
              "      <th>mileage</th>\n",
              "      <th>tax</th>\n",
              "      <th>mpg</th>\n",
              "      <th>engineSize</th>\n",
              "    </tr>\n",
              "  </thead>\n",
              "  <tbody>\n",
              "    <tr>\n",
              "      <th>count</th>\n",
              "      <td>12988.000000</td>\n",
              "      <td>12988.000000</td>\n",
              "      <td>12988.000000</td>\n",
              "      <td>12988.000000</td>\n",
              "      <td>12988.000000</td>\n",
              "      <td>12988.000000</td>\n",
              "    </tr>\n",
              "    <tr>\n",
              "      <th>mean</th>\n",
              "      <td>2017.281876</td>\n",
              "      <td>24074.926933</td>\n",
              "      <td>22132.741146</td>\n",
              "      <td>129.689714</td>\n",
              "      <td>55.437142</td>\n",
              "      <td>2.050901</td>\n",
              "    </tr>\n",
              "    <tr>\n",
              "      <th>std</th>\n",
              "      <td>2.228515</td>\n",
              "      <td>9866.224575</td>\n",
              "      <td>21196.776401</td>\n",
              "      <td>65.183076</td>\n",
              "      <td>15.025999</td>\n",
              "      <td>0.532596</td>\n",
              "    </tr>\n",
              "    <tr>\n",
              "      <th>min</th>\n",
              "      <td>1970.000000</td>\n",
              "      <td>650.000000</td>\n",
              "      <td>1.000000</td>\n",
              "      <td>0.000000</td>\n",
              "      <td>1.100000</td>\n",
              "      <td>0.000000</td>\n",
              "    </tr>\n",
              "    <tr>\n",
              "      <th>25%</th>\n",
              "      <td>2016.000000</td>\n",
              "      <td>17357.500000</td>\n",
              "      <td>6322.000000</td>\n",
              "      <td>125.000000</td>\n",
              "      <td>45.600000</td>\n",
              "      <td>1.675000</td>\n",
              "    </tr>\n",
              "    <tr>\n",
              "      <th>50%</th>\n",
              "      <td>2018.000000</td>\n",
              "      <td>22299.000000</td>\n",
              "      <td>15369.500000</td>\n",
              "      <td>145.000000</td>\n",
              "      <td>56.500000</td>\n",
              "      <td>2.000000</td>\n",
              "    </tr>\n",
              "    <tr>\n",
              "      <th>75%</th>\n",
              "      <td>2019.000000</td>\n",
              "      <td>28706.000000</td>\n",
              "      <td>31982.250000</td>\n",
              "      <td>145.000000</td>\n",
              "      <td>64.200000</td>\n",
              "      <td>2.100000</td>\n",
              "    </tr>\n",
              "    <tr>\n",
              "      <th>max</th>\n",
              "      <td>2020.000000</td>\n",
              "      <td>65990.000000</td>\n",
              "      <td>259000.000000</td>\n",
              "      <td>580.000000</td>\n",
              "      <td>217.300000</td>\n",
              "      <td>6.200000</td>\n",
              "    </tr>\n",
              "  </tbody>\n",
              "</table>\n",
              "</div>"
            ],
            "text/plain": [
              "               year         price  ...           mpg    engineSize\n",
              "count  12988.000000  12988.000000  ...  12988.000000  12988.000000\n",
              "mean    2017.281876  24074.926933  ...     55.437142      2.050901\n",
              "std        2.228515   9866.224575  ...     15.025999      0.532596\n",
              "min     1970.000000    650.000000  ...      1.100000      0.000000\n",
              "25%     2016.000000  17357.500000  ...     45.600000      1.675000\n",
              "50%     2018.000000  22299.000000  ...     56.500000      2.000000\n",
              "75%     2019.000000  28706.000000  ...     64.200000      2.100000\n",
              "max     2020.000000  65990.000000  ...    217.300000      6.200000\n",
              "\n",
              "[8 rows x 6 columns]"
            ]
          },
          "metadata": {
            "tags": []
          },
          "execution_count": 19
        }
      ]
    },
    {
      "cell_type": "code",
      "metadata": {
        "colab": {
          "base_uri": "https://localhost:8080/",
          "height": 417
        },
        "id": "tKeeffXO3wlD",
        "outputId": "71e8c168-f87d-4ee5-841a-f8d97f1cf286"
      },
      "source": [
        "plt.figure(figsize=(7,5))\n",
        "sbn.distplot(doksanDokuzDF[\"price\"])"
      ],
      "execution_count": 20,
      "outputs": [
        {
          "output_type": "stream",
          "text": [
            "/usr/local/lib/python3.7/dist-packages/seaborn/distributions.py:2557: FutureWarning: `distplot` is a deprecated function and will be removed in a future version. Please adapt your code to use either `displot` (a figure-level function with similar flexibility) or `histplot` (an axes-level function for histograms).\n",
            "  warnings.warn(msg, FutureWarning)\n"
          ],
          "name": "stderr"
        },
        {
          "output_type": "execute_result",
          "data": {
            "text/plain": [
              "<matplotlib.axes._subplots.AxesSubplot at 0x7f0f43309f50>"
            ]
          },
          "metadata": {
            "tags": []
          },
          "execution_count": 20
        },
        {
          "output_type": "display_data",
          "data": {
            "image/png": "[encoded data removed]",
            "text/plain": [
              "<Figure size 504x360 with 1 Axes>"
            ]
          },
          "metadata": {
            "tags": [],
            "needs_background": "light"
          }
        }
      ]
    },
    {
      "cell_type": "code",
      "metadata": {
        "colab": {
          "base_uri": "https://localhost:8080/",
          "height": 294
        },
        "id": "5JPpgGmB3_VU",
        "outputId": "2ed3dc2d-59f9-48ba-c027-b658cbc39883"
      },
      "source": [
        "dataFrame.describe()"
      ],
      "execution_count": 21,
      "outputs": [
        {
          "output_type": "execute_result",
          "data": {
            "text/html": [
              "<div>\n",
              "<style scoped>\n",
              "    .dataframe tbody tr th:only-of-type {\n",
              "        vertical-align: middle;\n",
              "    }\n",
              "\n",
              "    .dataframe tbody tr th {\n",
              "        vertical-align: top;\n",
              "    }\n",
              "\n",
              "    .dataframe thead th {\n",
              "        text-align: right;\n",
              "    }\n",
              "</style>\n",
              "<table border=\"1\" class=\"dataframe\">\n",
              "  <thead>\n",
              "    <tr style=\"text-align: right;\">\n",
              "      <th></th>\n",
              "      <th>year</th>\n",
              "      <th>price</th>\n",
              "      <th>mileage</th>\n",
              "      <th>tax</th>\n",
              "      <th>mpg</th>\n",
              "      <th>engineSize</th>\n",
              "    </tr>\n",
              "  </thead>\n",
              "  <tbody>\n",
              "    <tr>\n",
              "      <th>count</th>\n",
              "      <td>13119.000000</td>\n",
              "      <td>13119.000000</td>\n",
              "      <td>13119.000000</td>\n",
              "      <td>13119.000000</td>\n",
              "      <td>13119.000000</td>\n",
              "      <td>13119.000000</td>\n",
              "    </tr>\n",
              "    <tr>\n",
              "      <th>mean</th>\n",
              "      <td>2017.296288</td>\n",
              "      <td>24698.596920</td>\n",
              "      <td>21949.559037</td>\n",
              "      <td>129.972178</td>\n",
              "      <td>55.155843</td>\n",
              "      <td>2.071530</td>\n",
              "    </tr>\n",
              "    <tr>\n",
              "      <th>std</th>\n",
              "      <td>2.224709</td>\n",
              "      <td>11842.675542</td>\n",
              "      <td>21176.512267</td>\n",
              "      <td>65.260286</td>\n",
              "      <td>15.220082</td>\n",
              "      <td>0.572426</td>\n",
              "    </tr>\n",
              "    <tr>\n",
              "      <th>min</th>\n",
              "      <td>1970.000000</td>\n",
              "      <td>650.000000</td>\n",
              "      <td>1.000000</td>\n",
              "      <td>0.000000</td>\n",
              "      <td>1.100000</td>\n",
              "      <td>0.000000</td>\n",
              "    </tr>\n",
              "    <tr>\n",
              "      <th>25%</th>\n",
              "      <td>2016.000000</td>\n",
              "      <td>17450.000000</td>\n",
              "      <td>6097.500000</td>\n",
              "      <td>125.000000</td>\n",
              "      <td>45.600000</td>\n",
              "      <td>1.800000</td>\n",
              "    </tr>\n",
              "    <tr>\n",
              "      <th>50%</th>\n",
              "      <td>2018.000000</td>\n",
              "      <td>22480.000000</td>\n",
              "      <td>15189.000000</td>\n",
              "      <td>145.000000</td>\n",
              "      <td>56.500000</td>\n",
              "      <td>2.000000</td>\n",
              "    </tr>\n",
              "    <tr>\n",
              "      <th>75%</th>\n",
              "      <td>2019.000000</td>\n",
              "      <td>28980.000000</td>\n",
              "      <td>31779.500000</td>\n",
              "      <td>145.000000</td>\n",
              "      <td>64.200000</td>\n",
              "      <td>2.100000</td>\n",
              "    </tr>\n",
              "    <tr>\n",
              "      <th>max</th>\n",
              "      <td>2020.000000</td>\n",
              "      <td>159999.000000</td>\n",
              "      <td>259000.000000</td>\n",
              "      <td>580.000000</td>\n",
              "      <td>217.300000</td>\n",
              "      <td>6.200000</td>\n",
              "    </tr>\n",
              "  </tbody>\n",
              "</table>\n",
              "</div>"
            ],
            "text/plain": [
              "               year          price  ...           mpg    engineSize\n",
              "count  13119.000000   13119.000000  ...  13119.000000  13119.000000\n",
              "mean    2017.296288   24698.596920  ...     55.155843      2.071530\n",
              "std        2.224709   11842.675542  ...     15.220082      0.572426\n",
              "min     1970.000000     650.000000  ...      1.100000      0.000000\n",
              "25%     2016.000000   17450.000000  ...     45.600000      1.800000\n",
              "50%     2018.000000   22480.000000  ...     56.500000      2.000000\n",
              "75%     2019.000000   28980.000000  ...     64.200000      2.100000\n",
              "max     2020.000000  159999.000000  ...    217.300000      6.200000\n",
              "\n",
              "[8 rows x 6 columns]"
            ]
          },
          "metadata": {
            "tags": []
          },
          "execution_count": 21
        }
      ]
    },
    {
      "cell_type": "code",
      "metadata": {
        "colab": {
          "base_uri": "https://localhost:8080/"
        },
        "id": "92gBOkTB4NbM",
        "outputId": "9b68da07-27c1-48d1-a179-0e6252f3b18c"
      },
      "source": [
        "dataFrame.groupby(\"year\").mean()[\"price\"]"
      ],
      "execution_count": 22,
      "outputs": [
        {
          "output_type": "execute_result",
          "data": {
            "text/plain": [
              "year\n",
              "1970    24999.000000\n",
              "1997     9995.000000\n",
              "1998     8605.000000\n",
              "1999     5995.000000\n",
              "2000     5743.333333\n",
              "2001     4957.900000\n",
              "2002     5820.444444\n",
              "2003     4878.000000\n",
              "2004     4727.615385\n",
              "2005     4426.111111\n",
              "2006     4036.875000\n",
              "2007     5136.045455\n",
              "2008     6967.437500\n",
              "2009     6166.764706\n",
              "2010     8308.473684\n",
              "2011    12624.894737\n",
              "2012    10845.140351\n",
              "2013    11939.842466\n",
              "2014    14042.936864\n",
              "2015    16731.780020\n",
              "2016    19307.892948\n",
              "2017    21514.307854\n",
              "2018    25720.162918\n",
              "2019    31290.020865\n",
              "2020    35433.282337\n",
              "Name: price, dtype: float64"
            ]
          },
          "metadata": {
            "tags": []
          },
          "execution_count": 22
        }
      ]
    },
    {
      "cell_type": "code",
      "metadata": {
        "colab": {
          "base_uri": "https://localhost:8080/"
        },
        "id": "baZ16O1R4VJ9",
        "outputId": "74c3c8bd-20af-4385-f7ec-d7a79b706d2b"
      },
      "source": [
        "doksanDokuzDF.groupby(\"year\").mean()[\"price\"]"
      ],
      "execution_count": 23,
      "outputs": [
        {
          "output_type": "execute_result",
          "data": {
            "text/plain": [
              "year\n",
              "1970    24999.000000\n",
              "1997     9995.000000\n",
              "1998     8605.000000\n",
              "1999     5995.000000\n",
              "2000     5743.333333\n",
              "2001     4957.900000\n",
              "2002     5820.444444\n",
              "2003     4878.000000\n",
              "2004     4727.615385\n",
              "2005     4426.111111\n",
              "2006     4036.875000\n",
              "2007     5136.045455\n",
              "2008     6967.437500\n",
              "2009     6166.764706\n",
              "2010     8308.473684\n",
              "2011     8913.459459\n",
              "2012    10845.140351\n",
              "2013    11939.842466\n",
              "2014    14042.936864\n",
              "2015    16647.822222\n",
              "2016    19223.558943\n",
              "2017    21356.280421\n",
              "2018    24800.844506\n",
              "2019    30289.524832\n",
              "2020    34234.794872\n",
              "Name: price, dtype: float64"
            ]
          },
          "metadata": {
            "tags": []
          },
          "execution_count": 23
        }
      ]
    },
    {
      "cell_type": "code",
      "metadata": {
        "colab": {
          "base_uri": "https://localhost:8080/"
        },
        "id": "t_XWOmfZ4vrM",
        "outputId": "5c3789bb-f7f2-4360-fdcf-bdddd9e3a555"
      },
      "source": [
        "dataFrame[dataFrame.year != 1970].groupby(\"year\").mean()[\"price\"]"
      ],
      "execution_count": 24,
      "outputs": [
        {
          "output_type": "execute_result",
          "data": {
            "text/plain": [
              "year\n",
              "1997     9995.000000\n",
              "1998     8605.000000\n",
              "1999     5995.000000\n",
              "2000     5743.333333\n",
              "2001     4957.900000\n",
              "2002     5820.444444\n",
              "2003     4878.000000\n",
              "2004     4727.615385\n",
              "2005     4426.111111\n",
              "2006     4036.875000\n",
              "2007     5136.045455\n",
              "2008     6967.437500\n",
              "2009     6166.764706\n",
              "2010     8308.473684\n",
              "2011    12624.894737\n",
              "2012    10845.140351\n",
              "2013    11939.842466\n",
              "2014    14042.936864\n",
              "2015    16731.780020\n",
              "2016    19307.892948\n",
              "2017    21514.307854\n",
              "2018    25720.162918\n",
              "2019    31290.020865\n",
              "2020    35433.282337\n",
              "Name: price, dtype: float64"
            ]
          },
          "metadata": {
            "tags": []
          },
          "execution_count": 24
        }
      ]
    },
    {
      "cell_type": "code",
      "metadata": {
        "id": "skq5unh_5FnE"
      },
      "source": [
        "dataFrame = doksanDokuzDF"
      ],
      "execution_count": 25,
      "outputs": []
    },
    {
      "cell_type": "code",
      "metadata": {
        "colab": {
          "base_uri": "https://localhost:8080/",
          "height": 294
        },
        "id": "0Tf4Q1fr5tRd",
        "outputId": "33cf1746-776b-45fa-ed45-01cbd6ba8989"
      },
      "source": [
        "dataFrame.describe()"
      ],
      "execution_count": 26,
      "outputs": [
        {
          "output_type": "execute_result",
          "data": {
            "text/html": [
              "<div>\n",
              "<style scoped>\n",
              "    .dataframe tbody tr th:only-of-type {\n",
              "        vertical-align: middle;\n",
              "    }\n",
              "\n",
              "    .dataframe tbody tr th {\n",
              "        vertical-align: top;\n",
              "    }\n",
              "\n",
              "    .dataframe thead th {\n",
              "        text-align: right;\n",
              "    }\n",
              "</style>\n",
              "<table border=\"1\" class=\"dataframe\">\n",
              "  <thead>\n",
              "    <tr style=\"text-align: right;\">\n",
              "      <th></th>\n",
              "      <th>year</th>\n",
              "      <th>price</th>\n",
              "      <th>mileage</th>\n",
              "      <th>tax</th>\n",
              "      <th>mpg</th>\n",
              "      <th>engineSize</th>\n",
              "    </tr>\n",
              "  </thead>\n",
              "  <tbody>\n",
              "    <tr>\n",
              "      <th>count</th>\n",
              "      <td>12988.000000</td>\n",
              "      <td>12988.000000</td>\n",
              "      <td>12988.000000</td>\n",
              "      <td>12988.000000</td>\n",
              "      <td>12988.000000</td>\n",
              "      <td>12988.000000</td>\n",
              "    </tr>\n",
              "    <tr>\n",
              "      <th>mean</th>\n",
              "      <td>2017.281876</td>\n",
              "      <td>24074.926933</td>\n",
              "      <td>22132.741146</td>\n",
              "      <td>129.689714</td>\n",
              "      <td>55.437142</td>\n",
              "      <td>2.050901</td>\n",
              "    </tr>\n",
              "    <tr>\n",
              "      <th>std</th>\n",
              "      <td>2.228515</td>\n",
              "      <td>9866.224575</td>\n",
              "      <td>21196.776401</td>\n",
              "      <td>65.183076</td>\n",
              "      <td>15.025999</td>\n",
              "      <td>0.532596</td>\n",
              "    </tr>\n",
              "    <tr>\n",
              "      <th>min</th>\n",
              "      <td>1970.000000</td>\n",
              "      <td>650.000000</td>\n",
              "      <td>1.000000</td>\n",
              "      <td>0.000000</td>\n",
              "      <td>1.100000</td>\n",
              "      <td>0.000000</td>\n",
              "    </tr>\n",
              "    <tr>\n",
              "      <th>25%</th>\n",
              "      <td>2016.000000</td>\n",
              "      <td>17357.500000</td>\n",
              "      <td>6322.000000</td>\n",
              "      <td>125.000000</td>\n",
              "      <td>45.600000</td>\n",
              "      <td>1.675000</td>\n",
              "    </tr>\n",
              "    <tr>\n",
              "      <th>50%</th>\n",
              "      <td>2018.000000</td>\n",
              "      <td>22299.000000</td>\n",
              "      <td>15369.500000</td>\n",
              "      <td>145.000000</td>\n",
              "      <td>56.500000</td>\n",
              "      <td>2.000000</td>\n",
              "    </tr>\n",
              "    <tr>\n",
              "      <th>75%</th>\n",
              "      <td>2019.000000</td>\n",
              "      <td>28706.000000</td>\n",
              "      <td>31982.250000</td>\n",
              "      <td>145.000000</td>\n",
              "      <td>64.200000</td>\n",
              "      <td>2.100000</td>\n",
              "    </tr>\n",
              "    <tr>\n",
              "      <th>max</th>\n",
              "      <td>2020.000000</td>\n",
              "      <td>65990.000000</td>\n",
              "      <td>259000.000000</td>\n",
              "      <td>580.000000</td>\n",
              "      <td>217.300000</td>\n",
              "      <td>6.200000</td>\n",
              "    </tr>\n",
              "  </tbody>\n",
              "</table>\n",
              "</div>"
            ],
            "text/plain": [
              "               year         price  ...           mpg    engineSize\n",
              "count  12988.000000  12988.000000  ...  12988.000000  12988.000000\n",
              "mean    2017.281876  24074.926933  ...     55.437142      2.050901\n",
              "std        2.228515   9866.224575  ...     15.025999      0.532596\n",
              "min     1970.000000    650.000000  ...      1.100000      0.000000\n",
              "25%     2016.000000  17357.500000  ...     45.600000      1.675000\n",
              "50%     2018.000000  22299.000000  ...     56.500000      2.000000\n",
              "75%     2019.000000  28706.000000  ...     64.200000      2.100000\n",
              "max     2020.000000  65990.000000  ...    217.300000      6.200000\n",
              "\n",
              "[8 rows x 6 columns]"
            ]
          },
          "metadata": {
            "tags": []
          },
          "execution_count": 26
        }
      ]
    },
    {
      "cell_type": "code",
      "metadata": {
        "id": "hChetHOn5vE7"
      },
      "source": [
        "dataFrame = dataFrame[dataFrame.year != 1970]"
      ],
      "execution_count": 27,
      "outputs": []
    },
    {
      "cell_type": "code",
      "metadata": {
        "colab": {
          "base_uri": "https://localhost:8080/"
        },
        "id": "vx00PeWj50eb",
        "outputId": "98bd2893-931a-481a-faef-fb95c4ddb44e"
      },
      "source": [
        "dataFrame.groupby(\"year\").mean()[\"price\"]"
      ],
      "execution_count": 28,
      "outputs": [
        {
          "output_type": "execute_result",
          "data": {
            "text/plain": [
              "year\n",
              "1997     9995.000000\n",
              "1998     8605.000000\n",
              "1999     5995.000000\n",
              "2000     5743.333333\n",
              "2001     4957.900000\n",
              "2002     5820.444444\n",
              "2003     4878.000000\n",
              "2004     4727.615385\n",
              "2005     4426.111111\n",
              "2006     4036.875000\n",
              "2007     5136.045455\n",
              "2008     6967.437500\n",
              "2009     6166.764706\n",
              "2010     8308.473684\n",
              "2011     8913.459459\n",
              "2012    10845.140351\n",
              "2013    11939.842466\n",
              "2014    14042.936864\n",
              "2015    16647.822222\n",
              "2016    19223.558943\n",
              "2017    21356.280421\n",
              "2018    24800.844506\n",
              "2019    30289.524832\n",
              "2020    34234.794872\n",
              "Name: price, dtype: float64"
            ]
          },
          "metadata": {
            "tags": []
          },
          "execution_count": 28
        }
      ]
    },
    {
      "cell_type": "code",
      "metadata": {
        "id": "9x9-kFGw58Rz"
      },
      "source": [
        "dataFrame = dataFrame.drop(\"transmission\", axis = 1)"
      ],
      "execution_count": 29,
      "outputs": []
    },
    {
      "cell_type": "code",
      "metadata": {
        "id": "DEfDhvtL6PgM"
      },
      "source": [
        "y = dataFrame[\"price\"].values\n",
        "x= dataFrame.drop(\"price\", axis= 1 ).values"
      ],
      "execution_count": 30,
      "outputs": []
    },
    {
      "cell_type": "code",
      "metadata": {
        "colab": {
          "base_uri": "https://localhost:8080/"
        },
        "id": "keMXunGxCqKD",
        "outputId": "c7cd313f-c929-4227-9d5a-0875bf6a4dce"
      },
      "source": [
        "y"
      ],
      "execution_count": 31,
      "outputs": [
        {
          "output_type": "execute_result",
          "data": {
            "text/plain": [
              "array([65990, 65990, 65980, ...,  1490,  1350,   650])"
            ]
          },
          "metadata": {
            "tags": []
          },
          "execution_count": 31
        }
      ]
    },
    {
      "cell_type": "code",
      "metadata": {
        "colab": {
          "base_uri": "https://localhost:8080/"
        },
        "id": "A_3AjWS2Cqsa",
        "outputId": "dbbb6699-52c0-403c-a15d-147881b70d44"
      },
      "source": [
        "x"
      ],
      "execution_count": 32,
      "outputs": [
        {
          "output_type": "execute_result",
          "data": {
            "text/plain": [
              "array([[2.01900e+03, 5.07600e+03, 1.50000e+02, 3.04000e+01, 3.00000e+00],\n",
              "       [2.02000e+03, 9.99000e+02, 1.45000e+02, 2.80000e+01, 4.00000e+00],\n",
              "       [2.02000e+03, 3.99900e+03, 1.45000e+02, 2.80000e+01, 4.00000e+00],\n",
              "       ...,\n",
              "       [2.00000e+03, 8.70000e+04, 2.65000e+02, 2.72000e+01, 3.20000e+00],\n",
              "       [2.01000e+03, 1.16126e+05, 1.45000e+02, 5.43000e+01, 2.00000e+00],\n",
              "       [2.00300e+03, 1.09090e+05, 2.35000e+02, 4.00000e+01, 1.40000e+00]])"
            ]
          },
          "metadata": {
            "tags": []
          },
          "execution_count": 32
        }
      ]
    },
    {
      "cell_type": "code",
      "metadata": {
        "id": "8SrlxxltCrAU"
      },
      "source": [
        "from sklearn.model_selection import train_test_split"
      ],
      "execution_count": 33,
      "outputs": []
    },
    {
      "cell_type": "code",
      "metadata": {
        "id": "q3JoydNWCv1r"
      },
      "source": [
        "x_train ,x_test , y_train , y_test= train_test_split(x, y,test_size=0.3, random_state= 10)"
      ],
      "execution_count": 34,
      "outputs": []
    },
    {
      "cell_type": "code",
      "metadata": {
        "colab": {
          "base_uri": "https://localhost:8080/"
        },
        "id": "0zuipRyPDLM5",
        "outputId": "305de782-7cc9-4f16-e178-c3429b80df9e"
      },
      "source": [
        "len(x_train)"
      ],
      "execution_count": 35,
      "outputs": [
        {
          "output_type": "execute_result",
          "data": {
            "text/plain": [
              "9090"
            ]
          },
          "metadata": {
            "tags": []
          },
          "execution_count": 35
        }
      ]
    },
    {
      "cell_type": "code",
      "metadata": {
        "colab": {
          "base_uri": "https://localhost:8080/"
        },
        "id": "wZgEXnbODYma",
        "outputId": "cf651f1f-5fb2-4f34-f0bc-e6219999d741"
      },
      "source": [
        "len(x_test)"
      ],
      "execution_count": 36,
      "outputs": [
        {
          "output_type": "execute_result",
          "data": {
            "text/plain": [
              "3897"
            ]
          },
          "metadata": {
            "tags": []
          },
          "execution_count": 36
        }
      ]
    },
    {
      "cell_type": "code",
      "metadata": {
        "id": "fTAmVS18DaWz"
      },
      "source": [
        "from sklearn.preprocessing import MinMaxScaler"
      ],
      "execution_count": 37,
      "outputs": []
    },
    {
      "cell_type": "code",
      "metadata": {
        "id": "DHOCflTVDe5b"
      },
      "source": [
        "scaler = MinMaxScaler()"
      ],
      "execution_count": 38,
      "outputs": []
    },
    {
      "cell_type": "code",
      "metadata": {
        "id": "WxT_Pu_LDhiq"
      },
      "source": [
        "x_train = scaler.fit_transform(x_train)"
      ],
      "execution_count": 39,
      "outputs": []
    },
    {
      "cell_type": "code",
      "metadata": {
        "id": "6QttKOdcDnVy"
      },
      "source": [
        "x_test = scaler.transform(x_test)"
      ],
      "execution_count": 40,
      "outputs": []
    },
    {
      "cell_type": "code",
      "metadata": {
        "id": "EH2QcFFiDrhT"
      },
      "source": [
        "from tensorflow.keras.models import Sequential\n",
        "from tensorflow.keras.layers import Dense"
      ],
      "execution_count": 41,
      "outputs": []
    },
    {
      "cell_type": "code",
      "metadata": {
        "colab": {
          "base_uri": "https://localhost:8080/"
        },
        "id": "f5mvZAknD9pa",
        "outputId": "6c4854bd-e477-4bc0-8831-823863c127e3"
      },
      "source": [
        "x_train.shape"
      ],
      "execution_count": 42,
      "outputs": [
        {
          "output_type": "execute_result",
          "data": {
            "text/plain": [
              "(9090, 5)"
            ]
          },
          "metadata": {
            "tags": []
          },
          "execution_count": 42
        }
      ]
    },
    {
      "cell_type": "code",
      "metadata": {
        "id": "COKJ9c7eEBRj"
      },
      "source": [
        "model = Sequential()\n",
        "\n",
        "model.add(Dense(12, activation= \"relu\"))\n",
        "model.add(Dense(12, activation= \"relu\"))\n",
        "model.add(Dense(12, activation= \"relu\"))\n",
        "model.add(Dense(12, activation= \"relu\"))\n",
        "model.add(Dense(12, activation= \"relu\"))\n",
        "\n",
        "\n",
        "model.add(Dense(1))\n",
        "\n",
        "model.compile(optimizer = \"adam\", loss= \"mse\")"
      ],
      "execution_count": 43,
      "outputs": []
    },
    {
      "cell_type": "code",
      "metadata": {
        "colab": {
          "base_uri": "https://localhost:8080/"
        },
        "id": "ZwCbgno3Elo6",
        "outputId": "9cc9f926-bacf-4df4-b4ac-75bced5755c8"
      },
      "source": [
        "model.fit(x= x_train , y= y_train,validation_data=(x_test, y_test),batch_size= 250, epochs=300 )"
      ],
      "execution_count": 44,
      "outputs": [
        {
          "output_type": "stream",
          "text": [
            "Epoch 1/300\n",
            "37/37 [==============================] - 3s 7ms/step - loss: 671074376.4211 - val_loss: 688096128.0000\n",
            "Epoch 2/300\n",
            "37/37 [==============================] - 0s 3ms/step - loss: 672187742.3158 - val_loss: 688014656.0000\n",
            "Epoch 3/300\n",
            "37/37 [==============================] - 0s 3ms/step - loss: 662454354.5263 - val_loss: 687633024.0000\n",
            "Epoch 4/300\n",
            "37/37 [==============================] - 0s 3ms/step - loss: 679861397.8947 - val_loss: 685990720.0000\n",
            "Epoch 5/300\n",
            "37/37 [==============================] - 0s 3ms/step - loss: 684325320.4211 - val_loss: 680183232.0000\n",
            "Epoch 6/300\n",
            "37/37 [==============================] - 0s 3ms/step - loss: 663279107.3684 - val_loss: 663587136.0000\n",
            "Epoch 7/300\n",
            "37/37 [==============================] - 0s 3ms/step - loss: 641606428.6316 - val_loss: 623711232.0000\n",
            "Epoch 8/300\n",
            "37/37 [==============================] - 0s 3ms/step - loss: 584006664.4211 - val_loss: 542160064.0000\n",
            "Epoch 9/300\n",
            "37/37 [==============================] - 0s 3ms/step - loss: 498910411.7895 - val_loss: 406145120.0000\n",
            "Epoch 10/300\n",
            "37/37 [==============================] - 0s 3ms/step - loss: 361531248.0000 - val_loss: 238401472.0000\n",
            "Epoch 11/300\n",
            "37/37 [==============================] - 0s 3ms/step - loss: 192832594.9474 - val_loss: 118855352.0000\n",
            "Epoch 12/300\n",
            "37/37 [==============================] - 0s 3ms/step - loss: 101974983.5789 - val_loss: 89835320.0000\n",
            "Epoch 13/300\n",
            "37/37 [==============================] - 0s 4ms/step - loss: 89036879.5789 - val_loss: 87844600.0000\n",
            "Epoch 14/300\n",
            "37/37 [==============================] - 0s 3ms/step - loss: 88931860.0000 - val_loss: 86981664.0000\n",
            "Epoch 15/300\n",
            "37/37 [==============================] - 0s 3ms/step - loss: 86925265.6842 - val_loss: 86221248.0000\n",
            "Epoch 16/300\n",
            "37/37 [==============================] - 0s 3ms/step - loss: 83371993.6842 - val_loss: 85459648.0000\n",
            "Epoch 17/300\n",
            "37/37 [==============================] - 0s 3ms/step - loss: 83292271.3684 - val_loss: 84725696.0000\n",
            "Epoch 18/300\n",
            "37/37 [==============================] - 0s 3ms/step - loss: 80981864.0000 - val_loss: 84068592.0000\n",
            "Epoch 19/300\n",
            "37/37 [==============================] - 0s 3ms/step - loss: 80600697.2632 - val_loss: 83352912.0000\n",
            "Epoch 20/300\n",
            "37/37 [==============================] - 0s 3ms/step - loss: 82521694.7368 - val_loss: 82711088.0000\n",
            "Epoch 21/300\n",
            "37/37 [==============================] - 0s 3ms/step - loss: 78548101.8947 - val_loss: 82075784.0000\n",
            "Epoch 22/300\n",
            "37/37 [==============================] - 0s 3ms/step - loss: 78898797.0526 - val_loss: 81406544.0000\n",
            "Epoch 23/300\n",
            "37/37 [==============================] - 0s 4ms/step - loss: 77297362.5263 - val_loss: 80773824.0000\n",
            "Epoch 24/300\n",
            "37/37 [==============================] - 0s 3ms/step - loss: 79551043.7895 - val_loss: 80131688.0000\n",
            "Epoch 25/300\n",
            "37/37 [==============================] - 0s 3ms/step - loss: 80374437.8947 - val_loss: 79524800.0000\n",
            "Epoch 26/300\n",
            "37/37 [==============================] - 0s 3ms/step - loss: 76061759.3684 - val_loss: 78845872.0000\n",
            "Epoch 27/300\n",
            "37/37 [==============================] - 0s 3ms/step - loss: 75355561.4737 - val_loss: 78204568.0000\n",
            "Epoch 28/300\n",
            "37/37 [==============================] - 0s 3ms/step - loss: 78264130.9474 - val_loss: 77608280.0000\n",
            "Epoch 29/300\n",
            "37/37 [==============================] - 0s 3ms/step - loss: 73532699.5789 - val_loss: 76944472.0000\n",
            "Epoch 30/300\n",
            "37/37 [==============================] - 0s 3ms/step - loss: 74030627.1579 - val_loss: 76337104.0000\n",
            "Epoch 31/300\n",
            "37/37 [==============================] - 0s 3ms/step - loss: 74024558.3158 - val_loss: 75702616.0000\n",
            "Epoch 32/300\n",
            "37/37 [==============================] - 0s 3ms/step - loss: 74354903.7895 - val_loss: 75052552.0000\n",
            "Epoch 33/300\n",
            "37/37 [==============================] - 0s 3ms/step - loss: 74669756.0000 - val_loss: 74406392.0000\n",
            "Epoch 34/300\n",
            "37/37 [==============================] - 0s 3ms/step - loss: 70884560.6316 - val_loss: 73745136.0000\n",
            "Epoch 35/300\n",
            "37/37 [==============================] - 0s 3ms/step - loss: 72267911.1579 - val_loss: 73094264.0000\n",
            "Epoch 36/300\n",
            "37/37 [==============================] - 0s 3ms/step - loss: 72231373.6842 - val_loss: 72448408.0000\n",
            "Epoch 37/300\n",
            "37/37 [==============================] - 0s 3ms/step - loss: 72306188.8421 - val_loss: 71777568.0000\n",
            "Epoch 38/300\n",
            "37/37 [==============================] - 0s 3ms/step - loss: 69567399.5789 - val_loss: 71068048.0000\n",
            "Epoch 39/300\n",
            "37/37 [==============================] - 0s 3ms/step - loss: 69175055.6842 - val_loss: 70357072.0000\n",
            "Epoch 40/300\n",
            "37/37 [==============================] - 0s 3ms/step - loss: 66286147.8947 - val_loss: 69659536.0000\n",
            "Epoch 41/300\n",
            "37/37 [==============================] - 0s 3ms/step - loss: 68345622.3158 - val_loss: 68999416.0000\n",
            "Epoch 42/300\n",
            "37/37 [==============================] - 0s 3ms/step - loss: 67958862.4211 - val_loss: 68253080.0000\n",
            "Epoch 43/300\n",
            "37/37 [==============================] - 0s 3ms/step - loss: 66803986.5263 - val_loss: 67534912.0000\n",
            "Epoch 44/300\n",
            "37/37 [==============================] - 0s 3ms/step - loss: 65994412.3158 - val_loss: 66773080.0000\n",
            "Epoch 45/300\n",
            "37/37 [==============================] - 0s 3ms/step - loss: 65402285.7895 - val_loss: 66002264.0000\n",
            "Epoch 46/300\n",
            "37/37 [==============================] - 0s 3ms/step - loss: 60708728.9474 - val_loss: 65214888.0000\n",
            "Epoch 47/300\n",
            "37/37 [==============================] - 0s 4ms/step - loss: 61952900.0000 - val_loss: 64453156.0000\n",
            "Epoch 48/300\n",
            "37/37 [==============================] - 0s 3ms/step - loss: 62063955.8947 - val_loss: 63633788.0000\n",
            "Epoch 49/300\n",
            "37/37 [==============================] - 0s 3ms/step - loss: 64311899.0526 - val_loss: 62812192.0000\n",
            "Epoch 50/300\n",
            "37/37 [==============================] - 0s 3ms/step - loss: 59194191.2632 - val_loss: 61957100.0000\n",
            "Epoch 51/300\n",
            "37/37 [==============================] - 0s 3ms/step - loss: 61109806.3158 - val_loss: 61177248.0000\n",
            "Epoch 52/300\n",
            "37/37 [==============================] - 0s 3ms/step - loss: 57101574.3158 - val_loss: 60224980.0000\n",
            "Epoch 53/300\n",
            "37/37 [==============================] - 0s 3ms/step - loss: 59663371.0526 - val_loss: 59362504.0000\n",
            "Epoch 54/300\n",
            "37/37 [==============================] - 0s 3ms/step - loss: 56959027.8947 - val_loss: 58442316.0000\n",
            "Epoch 55/300\n",
            "37/37 [==============================] - 0s 3ms/step - loss: 55267266.3158 - val_loss: 57487204.0000\n",
            "Epoch 56/300\n",
            "37/37 [==============================] - 0s 3ms/step - loss: 54985997.6842 - val_loss: 56529544.0000\n",
            "Epoch 57/300\n",
            "37/37 [==============================] - 0s 3ms/step - loss: 55907536.7368 - val_loss: 55602772.0000\n",
            "Epoch 58/300\n",
            "37/37 [==============================] - 0s 3ms/step - loss: 54033233.7895 - val_loss: 54572152.0000\n",
            "Epoch 59/300\n",
            "37/37 [==============================] - 0s 3ms/step - loss: 51457949.0526 - val_loss: 53557912.0000\n",
            "Epoch 60/300\n",
            "37/37 [==============================] - 0s 3ms/step - loss: 51986827.0526 - val_loss: 52545756.0000\n",
            "Epoch 61/300\n",
            "37/37 [==============================] - 0s 3ms/step - loss: 50206467.2632 - val_loss: 51501016.0000\n",
            "Epoch 62/300\n",
            "37/37 [==============================] - 0s 3ms/step - loss: 49745479.0526 - val_loss: 50477680.0000\n",
            "Epoch 63/300\n",
            "37/37 [==============================] - 0s 3ms/step - loss: 47783411.6842 - val_loss: 49360004.0000\n",
            "Epoch 64/300\n",
            "37/37 [==============================] - 0s 3ms/step - loss: 47918439.7895 - val_loss: 48271416.0000\n",
            "Epoch 65/300\n",
            "37/37 [==============================] - 0s 3ms/step - loss: 45671060.4211 - val_loss: 47187716.0000\n",
            "Epoch 66/300\n",
            "37/37 [==============================] - 0s 3ms/step - loss: 44861635.7895 - val_loss: 46066352.0000\n",
            "Epoch 67/300\n",
            "37/37 [==============================] - 0s 3ms/step - loss: 43904331.0526 - val_loss: 44929956.0000\n",
            "Epoch 68/300\n",
            "37/37 [==============================] - 0s 3ms/step - loss: 43234960.3158 - val_loss: 43804784.0000\n",
            "Epoch 69/300\n",
            "37/37 [==============================] - 0s 3ms/step - loss: 42470044.1053 - val_loss: 42691784.0000\n",
            "Epoch 70/300\n",
            "37/37 [==============================] - 0s 3ms/step - loss: 41370172.6316 - val_loss: 41570968.0000\n",
            "Epoch 71/300\n",
            "37/37 [==============================] - 0s 3ms/step - loss: 39400207.0000 - val_loss: 40486384.0000\n",
            "Epoch 72/300\n",
            "37/37 [==============================] - 0s 3ms/step - loss: 39325406.8421 - val_loss: 39399208.0000\n",
            "Epoch 73/300\n",
            "37/37 [==============================] - 0s 3ms/step - loss: 38380625.7895 - val_loss: 38372116.0000\n",
            "Epoch 74/300\n",
            "37/37 [==============================] - 0s 3ms/step - loss: 37370776.0000 - val_loss: 37378408.0000\n",
            "Epoch 75/300\n",
            "37/37 [==============================] - 0s 3ms/step - loss: 35987931.4737 - val_loss: 36458868.0000\n",
            "Epoch 76/300\n",
            "37/37 [==============================] - 0s 3ms/step - loss: 34122229.1579 - val_loss: 35452364.0000\n",
            "Epoch 77/300\n",
            "37/37 [==============================] - 0s 3ms/step - loss: 34066186.4737 - val_loss: 34509740.0000\n",
            "Epoch 78/300\n",
            "37/37 [==============================] - 0s 3ms/step - loss: 34221598.1579 - val_loss: 33658948.0000\n",
            "Epoch 79/300\n",
            "37/37 [==============================] - 0s 3ms/step - loss: 31526459.6316 - val_loss: 32864392.0000\n",
            "Epoch 80/300\n",
            "37/37 [==============================] - 0s 3ms/step - loss: 31469082.3158 - val_loss: 32075018.0000\n",
            "Epoch 81/300\n",
            "37/37 [==============================] - 0s 3ms/step - loss: 29737510.4211 - val_loss: 31317344.0000\n",
            "Epoch 82/300\n",
            "37/37 [==============================] - 0s 3ms/step - loss: 29555360.3684 - val_loss: 30598840.0000\n",
            "Epoch 83/300\n",
            "37/37 [==============================] - 0s 3ms/step - loss: 29035828.7895 - val_loss: 29908944.0000\n",
            "Epoch 84/300\n",
            "37/37 [==============================] - 0s 3ms/step - loss: 28930873.3158 - val_loss: 29240528.0000\n",
            "Epoch 85/300\n",
            "37/37 [==============================] - 0s 3ms/step - loss: 27458657.2632 - val_loss: 28611974.0000\n",
            "Epoch 86/300\n",
            "37/37 [==============================] - 0s 4ms/step - loss: 27250187.4211 - val_loss: 27995392.0000\n",
            "Epoch 87/300\n",
            "37/37 [==============================] - 0s 3ms/step - loss: 27144076.3158 - val_loss: 27502736.0000\n",
            "Epoch 88/300\n",
            "37/37 [==============================] - 0s 3ms/step - loss: 26427862.0000 - val_loss: 26935916.0000\n",
            "Epoch 89/300\n",
            "37/37 [==============================] - 0s 3ms/step - loss: 25379712.8421 - val_loss: 26536216.0000\n",
            "Epoch 90/300\n",
            "37/37 [==============================] - 0s 3ms/step - loss: 24663383.9474 - val_loss: 26150854.0000\n",
            "Epoch 91/300\n",
            "37/37 [==============================] - 0s 3ms/step - loss: 25823980.7895 - val_loss: 25780638.0000\n",
            "Epoch 92/300\n",
            "37/37 [==============================] - 0s 3ms/step - loss: 25587467.3684 - val_loss: 25492020.0000\n",
            "Epoch 93/300\n",
            "37/37 [==============================] - 0s 3ms/step - loss: 24025044.1579 - val_loss: 25225480.0000\n",
            "Epoch 94/300\n",
            "37/37 [==============================] - 0s 3ms/step - loss: 23468931.5263 - val_loss: 25025526.0000\n",
            "Epoch 95/300\n",
            "37/37 [==============================] - 0s 3ms/step - loss: 24379857.4211 - val_loss: 24797862.0000\n",
            "Epoch 96/300\n",
            "37/37 [==============================] - 0s 3ms/step - loss: 24250500.8947 - val_loss: 24632584.0000\n",
            "Epoch 97/300\n",
            "37/37 [==============================] - 0s 4ms/step - loss: 23260283.0526 - val_loss: 24482406.0000\n",
            "Epoch 98/300\n",
            "37/37 [==============================] - 0s 3ms/step - loss: 23254755.5789 - val_loss: 24280700.0000\n",
            "Epoch 99/300\n",
            "37/37 [==============================] - 0s 3ms/step - loss: 23212756.6842 - val_loss: 24097618.0000\n",
            "Epoch 100/300\n",
            "37/37 [==============================] - 0s 3ms/step - loss: 21776743.4211 - val_loss: 23940290.0000\n",
            "Epoch 101/300\n",
            "37/37 [==============================] - 0s 3ms/step - loss: 22853589.4737 - val_loss: 23787056.0000\n",
            "Epoch 102/300\n",
            "37/37 [==============================] - 0s 3ms/step - loss: 22433690.0526 - val_loss: 23716102.0000\n",
            "Epoch 103/300\n",
            "37/37 [==============================] - 0s 3ms/step - loss: 22854125.3684 - val_loss: 23515070.0000\n",
            "Epoch 104/300\n",
            "37/37 [==============================] - 0s 3ms/step - loss: 21937456.4737 - val_loss: 23380356.0000\n",
            "Epoch 105/300\n",
            "37/37 [==============================] - 0s 3ms/step - loss: 21678983.4211 - val_loss: 23278024.0000\n",
            "Epoch 106/300\n",
            "37/37 [==============================] - 0s 3ms/step - loss: 21823860.4211 - val_loss: 23174412.0000\n",
            "Epoch 107/300\n",
            "37/37 [==============================] - 0s 3ms/step - loss: 21515048.3158 - val_loss: 23124674.0000\n",
            "Epoch 108/300\n",
            "37/37 [==============================] - 0s 3ms/step - loss: 21090067.9474 - val_loss: 22998292.0000\n",
            "Epoch 109/300\n",
            "37/37 [==============================] - 0s 3ms/step - loss: 23028381.3684 - val_loss: 22985722.0000\n",
            "Epoch 110/300\n",
            "37/37 [==============================] - 0s 3ms/step - loss: 21598912.6842 - val_loss: 22844678.0000\n",
            "Epoch 111/300\n",
            "37/37 [==============================] - 0s 3ms/step - loss: 21585489.2632 - val_loss: 22866804.0000\n",
            "Epoch 112/300\n",
            "37/37 [==============================] - 0s 3ms/step - loss: 21802799.9474 - val_loss: 22772540.0000\n",
            "Epoch 113/300\n",
            "37/37 [==============================] - 0s 3ms/step - loss: 21950541.4737 - val_loss: 22660200.0000\n",
            "Epoch 114/300\n",
            "37/37 [==============================] - 0s 3ms/step - loss: 20741708.3684 - val_loss: 22607298.0000\n",
            "Epoch 115/300\n",
            "37/37 [==============================] - 0s 3ms/step - loss: 22170393.4211 - val_loss: 22591414.0000\n",
            "Epoch 116/300\n",
            "37/37 [==============================] - 0s 3ms/step - loss: 20962394.7895 - val_loss: 22523644.0000\n",
            "Epoch 117/300\n",
            "37/37 [==============================] - 0s 3ms/step - loss: 21137062.9474 - val_loss: 22572424.0000\n",
            "Epoch 118/300\n",
            "37/37 [==============================] - 0s 3ms/step - loss: 21350670.1579 - val_loss: 22461300.0000\n",
            "Epoch 119/300\n",
            "37/37 [==============================] - 0s 3ms/step - loss: 20777683.3684 - val_loss: 22397356.0000\n",
            "Epoch 120/300\n",
            "37/37 [==============================] - 0s 3ms/step - loss: 20760295.6842 - val_loss: 22401108.0000\n",
            "Epoch 121/300\n",
            "37/37 [==============================] - 0s 4ms/step - loss: 21157709.4211 - val_loss: 22326622.0000\n",
            "Epoch 122/300\n",
            "37/37 [==============================] - 0s 3ms/step - loss: 21019083.3684 - val_loss: 22254120.0000\n",
            "Epoch 123/300\n",
            "37/37 [==============================] - 0s 3ms/step - loss: 21032464.3158 - val_loss: 22280194.0000\n",
            "Epoch 124/300\n",
            "37/37 [==============================] - 0s 3ms/step - loss: 20378564.5789 - val_loss: 22256518.0000\n",
            "Epoch 125/300\n",
            "37/37 [==============================] - 0s 3ms/step - loss: 20736446.5789 - val_loss: 22183366.0000\n",
            "Epoch 126/300\n",
            "37/37 [==============================] - 0s 3ms/step - loss: 20914917.6316 - val_loss: 22253368.0000\n",
            "Epoch 127/300\n",
            "37/37 [==============================] - 0s 3ms/step - loss: 20346582.5789 - val_loss: 22161176.0000\n",
            "Epoch 128/300\n",
            "37/37 [==============================] - 0s 3ms/step - loss: 20878120.1053 - val_loss: 22068848.0000\n",
            "Epoch 129/300\n",
            "37/37 [==============================] - 0s 4ms/step - loss: 20923749.2105 - val_loss: 22007132.0000\n",
            "Epoch 130/300\n",
            "37/37 [==============================] - 0s 3ms/step - loss: 20505336.0000 - val_loss: 21999430.0000\n",
            "Epoch 131/300\n",
            "37/37 [==============================] - 0s 3ms/step - loss: 20516248.8421 - val_loss: 21955278.0000\n",
            "Epoch 132/300\n",
            "37/37 [==============================] - 0s 3ms/step - loss: 20441703.2105 - val_loss: 21912406.0000\n",
            "Epoch 133/300\n",
            "37/37 [==============================] - 0s 3ms/step - loss: 20093866.0000 - val_loss: 21881956.0000\n",
            "Epoch 134/300\n",
            "37/37 [==============================] - 0s 3ms/step - loss: 19781899.1053 - val_loss: 21918648.0000\n",
            "Epoch 135/300\n",
            "37/37 [==============================] - 0s 3ms/step - loss: 20472968.7895 - val_loss: 21816984.0000\n",
            "Epoch 136/300\n",
            "37/37 [==============================] - 0s 3ms/step - loss: 19687455.6316 - val_loss: 21790136.0000\n",
            "Epoch 137/300\n",
            "37/37 [==============================] - 0s 3ms/step - loss: 20232544.7368 - val_loss: 21756484.0000\n",
            "Epoch 138/300\n",
            "37/37 [==============================] - 0s 3ms/step - loss: 20542989.5263 - val_loss: 21918360.0000\n",
            "Epoch 139/300\n",
            "37/37 [==============================] - 0s 3ms/step - loss: 20597128.9474 - val_loss: 21727894.0000\n",
            "Epoch 140/300\n",
            "37/37 [==============================] - 0s 3ms/step - loss: 20003209.4737 - val_loss: 21682458.0000\n",
            "Epoch 141/300\n",
            "37/37 [==============================] - 0s 3ms/step - loss: 19859125.2632 - val_loss: 21662414.0000\n",
            "Epoch 142/300\n",
            "37/37 [==============================] - 0s 3ms/step - loss: 19886258.6842 - val_loss: 21602180.0000\n",
            "Epoch 143/300\n",
            "37/37 [==============================] - 0s 3ms/step - loss: 20430363.5789 - val_loss: 21580722.0000\n",
            "Epoch 144/300\n",
            "37/37 [==============================] - 0s 3ms/step - loss: 20197541.8947 - val_loss: 21550854.0000\n",
            "Epoch 145/300\n",
            "37/37 [==============================] - 0s 3ms/step - loss: 19577438.4737 - val_loss: 21550076.0000\n",
            "Epoch 146/300\n",
            "37/37 [==============================] - 0s 3ms/step - loss: 19699726.1053 - val_loss: 21524510.0000\n",
            "Epoch 147/300\n",
            "37/37 [==============================] - 0s 3ms/step - loss: 19610566.5263 - val_loss: 21678378.0000\n",
            "Epoch 148/300\n",
            "37/37 [==============================] - 0s 3ms/step - loss: 19928034.4737 - val_loss: 21436456.0000\n",
            "Epoch 149/300\n",
            "37/37 [==============================] - 0s 3ms/step - loss: 19724134.0526 - val_loss: 21411220.0000\n",
            "Epoch 150/300\n",
            "37/37 [==============================] - 0s 3ms/step - loss: 19729191.7368 - val_loss: 21428288.0000\n",
            "Epoch 151/300\n",
            "37/37 [==============================] - 0s 3ms/step - loss: 19227572.3158 - val_loss: 21403744.0000\n",
            "Epoch 152/300\n",
            "37/37 [==============================] - 0s 3ms/step - loss: 19628522.1579 - val_loss: 21361156.0000\n",
            "Epoch 153/300\n",
            "37/37 [==============================] - 0s 3ms/step - loss: 19436519.0263 - val_loss: 21329950.0000\n",
            "Epoch 154/300\n",
            "37/37 [==============================] - 0s 3ms/step - loss: 19534618.4474 - val_loss: 21309402.0000\n",
            "Epoch 155/300\n",
            "37/37 [==============================] - 0s 3ms/step - loss: 19587363.7368 - val_loss: 21294058.0000\n",
            "Epoch 156/300\n",
            "37/37 [==============================] - 0s 3ms/step - loss: 19842357.3684 - val_loss: 21269362.0000\n",
            "Epoch 157/300\n",
            "37/37 [==============================] - 0s 3ms/step - loss: 19339501.2632 - val_loss: 21307376.0000\n",
            "Epoch 158/300\n",
            "37/37 [==============================] - 0s 3ms/step - loss: 19699644.4737 - val_loss: 21242338.0000\n",
            "Epoch 159/300\n",
            "37/37 [==============================] - 0s 3ms/step - loss: 19108866.8421 - val_loss: 21209294.0000\n",
            "Epoch 160/300\n",
            "37/37 [==============================] - 0s 3ms/step - loss: 19383243.2632 - val_loss: 21235870.0000\n",
            "Epoch 161/300\n",
            "37/37 [==============================] - 0s 3ms/step - loss: 19400928.0526 - val_loss: 21185118.0000\n",
            "Epoch 162/300\n",
            "37/37 [==============================] - 0s 3ms/step - loss: 19648175.4211 - val_loss: 21158802.0000\n",
            "Epoch 163/300\n",
            "37/37 [==============================] - 0s 3ms/step - loss: 19817761.0000 - val_loss: 21133530.0000\n",
            "Epoch 164/300\n",
            "37/37 [==============================] - 0s 3ms/step - loss: 19416297.6842 - val_loss: 21142504.0000\n",
            "Epoch 165/300\n",
            "37/37 [==============================] - 0s 3ms/step - loss: 19378139.0000 - val_loss: 21099348.0000\n",
            "Epoch 166/300\n",
            "37/37 [==============================] - 0s 3ms/step - loss: 20182478.8421 - val_loss: 21094512.0000\n",
            "Epoch 167/300\n",
            "37/37 [==============================] - 0s 3ms/step - loss: 19931383.8421 - val_loss: 21094136.0000\n",
            "Epoch 168/300\n",
            "37/37 [==============================] - 0s 3ms/step - loss: 19122343.8947 - val_loss: 21044414.0000\n",
            "Epoch 169/300\n",
            "37/37 [==============================] - 0s 3ms/step - loss: 19382524.4737 - val_loss: 21027688.0000\n",
            "Epoch 170/300\n",
            "37/37 [==============================] - 0s 3ms/step - loss: 19090337.2368 - val_loss: 21017792.0000\n",
            "Epoch 171/300\n",
            "37/37 [==============================] - 0s 3ms/step - loss: 19427068.9474 - val_loss: 21045830.0000\n",
            "Epoch 172/300\n",
            "37/37 [==============================] - 0s 3ms/step - loss: 18890109.7895 - val_loss: 21012538.0000\n",
            "Epoch 173/300\n",
            "37/37 [==============================] - 0s 3ms/step - loss: 19289768.4211 - val_loss: 20968718.0000\n",
            "Epoch 174/300\n",
            "37/37 [==============================] - 0s 3ms/step - loss: 19626065.6316 - val_loss: 20983154.0000\n",
            "Epoch 175/300\n",
            "37/37 [==============================] - 0s 3ms/step - loss: 19498909.8421 - val_loss: 20980678.0000\n",
            "Epoch 176/300\n",
            "37/37 [==============================] - 0s 3ms/step - loss: 19372180.3684 - val_loss: 20918464.0000\n",
            "Epoch 177/300\n",
            "37/37 [==============================] - 0s 3ms/step - loss: 19450678.3158 - val_loss: 20909938.0000\n",
            "Epoch 178/300\n",
            "37/37 [==============================] - 0s 3ms/step - loss: 19606952.6316 - val_loss: 20879138.0000\n",
            "Epoch 179/300\n",
            "37/37 [==============================] - 0s 3ms/step - loss: 18999845.7895 - val_loss: 21011926.0000\n",
            "Epoch 180/300\n",
            "37/37 [==============================] - 0s 3ms/step - loss: 19921617.6316 - val_loss: 20857892.0000\n",
            "Epoch 181/300\n",
            "37/37 [==============================] - 0s 3ms/step - loss: 19246463.0000 - val_loss: 20959836.0000\n",
            "Epoch 182/300\n",
            "37/37 [==============================] - 0s 3ms/step - loss: 19696240.6316 - val_loss: 20829936.0000\n",
            "Epoch 183/300\n",
            "37/37 [==============================] - 0s 3ms/step - loss: 19445305.0526 - val_loss: 20847094.0000\n",
            "Epoch 184/300\n",
            "37/37 [==============================] - 0s 3ms/step - loss: 19271199.8947 - val_loss: 20918356.0000\n",
            "Epoch 185/300\n",
            "37/37 [==============================] - 0s 4ms/step - loss: 19065767.1579 - val_loss: 20795592.0000\n",
            "Epoch 186/300\n",
            "37/37 [==============================] - 0s 3ms/step - loss: 19385945.3158 - val_loss: 20769814.0000\n",
            "Epoch 187/300\n",
            "37/37 [==============================] - 0s 4ms/step - loss: 19359114.1579 - val_loss: 20779358.0000\n",
            "Epoch 188/300\n",
            "37/37 [==============================] - 0s 3ms/step - loss: 19673635.5789 - val_loss: 20835732.0000\n",
            "Epoch 189/300\n",
            "37/37 [==============================] - 0s 3ms/step - loss: 19218141.5263 - val_loss: 20723466.0000\n",
            "Epoch 190/300\n",
            "37/37 [==============================] - 0s 3ms/step - loss: 19177191.0526 - val_loss: 20782006.0000\n",
            "Epoch 191/300\n",
            "37/37 [==============================] - 0s 3ms/step - loss: 19134646.6316 - val_loss: 20700046.0000\n",
            "Epoch 192/300\n",
            "37/37 [==============================] - 0s 3ms/step - loss: 18612918.2632 - val_loss: 20769020.0000\n",
            "Epoch 193/300\n",
            "37/37 [==============================] - 0s 3ms/step - loss: 18931687.2105 - val_loss: 20750314.0000\n",
            "Epoch 194/300\n",
            "37/37 [==============================] - 0s 3ms/step - loss: 18889962.3684 - val_loss: 20650932.0000\n",
            "Epoch 195/300\n",
            "37/37 [==============================] - 0s 3ms/step - loss: 19141849.7895 - val_loss: 20702136.0000\n",
            "Epoch 196/300\n",
            "37/37 [==============================] - 0s 3ms/step - loss: 18942301.4211 - val_loss: 20641462.0000\n",
            "Epoch 197/300\n",
            "37/37 [==============================] - 0s 3ms/step - loss: 18905505.5263 - val_loss: 20611788.0000\n",
            "Epoch 198/300\n",
            "37/37 [==============================] - 0s 3ms/step - loss: 18843927.3158 - val_loss: 20798912.0000\n",
            "Epoch 199/300\n",
            "37/37 [==============================] - 0s 3ms/step - loss: 18905419.4211 - val_loss: 20737550.0000\n",
            "Epoch 200/300\n",
            "37/37 [==============================] - 0s 3ms/step - loss: 19098336.4737 - val_loss: 20579878.0000\n",
            "Epoch 201/300\n",
            "37/37 [==============================] - 0s 3ms/step - loss: 19512275.2632 - val_loss: 20568196.0000\n",
            "Epoch 202/300\n",
            "37/37 [==============================] - 0s 3ms/step - loss: 19005901.6316 - val_loss: 20564808.0000\n",
            "Epoch 203/300\n",
            "37/37 [==============================] - 0s 3ms/step - loss: 18669367.0526 - val_loss: 20574366.0000\n",
            "Epoch 204/300\n",
            "37/37 [==============================] - 0s 3ms/step - loss: 19552261.5263 - val_loss: 20584326.0000\n",
            "Epoch 205/300\n",
            "37/37 [==============================] - 0s 3ms/step - loss: 19019176.1579 - val_loss: 20553194.0000\n",
            "Epoch 206/300\n",
            "37/37 [==============================] - 0s 3ms/step - loss: 18866649.1579 - val_loss: 20527708.0000\n",
            "Epoch 207/300\n",
            "37/37 [==============================] - 0s 4ms/step - loss: 18320534.0000 - val_loss: 20505480.0000\n",
            "Epoch 208/300\n",
            "37/37 [==============================] - 0s 3ms/step - loss: 18642323.3421 - val_loss: 20495070.0000\n",
            "Epoch 209/300\n",
            "37/37 [==============================] - 0s 3ms/step - loss: 19389530.0000 - val_loss: 20488762.0000\n",
            "Epoch 210/300\n",
            "37/37 [==============================] - 0s 3ms/step - loss: 19086939.0526 - val_loss: 20464738.0000\n",
            "Epoch 211/300\n",
            "37/37 [==============================] - 0s 3ms/step - loss: 18958891.1053 - val_loss: 20468174.0000\n",
            "Epoch 212/300\n",
            "37/37 [==============================] - 0s 3ms/step - loss: 18863544.8421 - val_loss: 20442178.0000\n",
            "Epoch 213/300\n",
            "37/37 [==============================] - 0s 3ms/step - loss: 18783812.2105 - val_loss: 20435162.0000\n",
            "Epoch 214/300\n",
            "37/37 [==============================] - 0s 3ms/step - loss: 19007829.5263 - val_loss: 20448260.0000\n",
            "Epoch 215/300\n",
            "37/37 [==============================] - 0s 3ms/step - loss: 19013376.6842 - val_loss: 20406920.0000\n",
            "Epoch 216/300\n",
            "37/37 [==============================] - 0s 4ms/step - loss: 18899006.8158 - val_loss: 20407146.0000\n",
            "Epoch 217/300\n",
            "37/37 [==============================] - 0s 3ms/step - loss: 18902496.4737 - val_loss: 20388890.0000\n",
            "Epoch 218/300\n",
            "37/37 [==============================] - 0s 3ms/step - loss: 19055520.1053 - val_loss: 20376008.0000\n",
            "Epoch 219/300\n",
            "37/37 [==============================] - 0s 3ms/step - loss: 18966264.5789 - val_loss: 20381464.0000\n",
            "Epoch 220/300\n",
            "37/37 [==============================] - 0s 3ms/step - loss: 18706828.7895 - val_loss: 20373126.0000\n",
            "Epoch 221/300\n",
            "37/37 [==============================] - 0s 3ms/step - loss: 18115722.9474 - val_loss: 20348724.0000\n",
            "Epoch 222/300\n",
            "37/37 [==============================] - 0s 3ms/step - loss: 19016703.3684 - val_loss: 20460340.0000\n",
            "Epoch 223/300\n",
            "37/37 [==============================] - 0s 3ms/step - loss: 18928391.4737 - val_loss: 20351570.0000\n",
            "Epoch 224/300\n",
            "37/37 [==============================] - 0s 3ms/step - loss: 19081033.0526 - val_loss: 20347566.0000\n",
            "Epoch 225/300\n",
            "37/37 [==============================] - 0s 3ms/step - loss: 18876101.3684 - val_loss: 20314998.0000\n",
            "Epoch 226/300\n",
            "37/37 [==============================] - 0s 3ms/step - loss: 18389510.6316 - val_loss: 20293346.0000\n",
            "Epoch 227/300\n",
            "37/37 [==============================] - 0s 3ms/step - loss: 18375104.9211 - val_loss: 20344636.0000\n",
            "Epoch 228/300\n",
            "37/37 [==============================] - 0s 3ms/step - loss: 18643515.2105 - val_loss: 20273542.0000\n",
            "Epoch 229/300\n",
            "37/37 [==============================] - 0s 3ms/step - loss: 17956637.3684 - val_loss: 20288032.0000\n",
            "Epoch 230/300\n",
            "37/37 [==============================] - 0s 3ms/step - loss: 18737472.2105 - val_loss: 20348018.0000\n",
            "Epoch 231/300\n",
            "37/37 [==============================] - 0s 3ms/step - loss: 18026273.6316 - val_loss: 20245238.0000\n",
            "Epoch 232/300\n",
            "37/37 [==============================] - 0s 3ms/step - loss: 18291692.4474 - val_loss: 20270770.0000\n",
            "Epoch 233/300\n",
            "37/37 [==============================] - 0s 3ms/step - loss: 18320629.5789 - val_loss: 20238950.0000\n",
            "Epoch 234/300\n",
            "37/37 [==============================] - 0s 3ms/step - loss: 19064089.7368 - val_loss: 20226744.0000\n",
            "Epoch 235/300\n",
            "37/37 [==============================] - 0s 3ms/step - loss: 18662663.9474 - val_loss: 20201528.0000\n",
            "Epoch 236/300\n",
            "37/37 [==============================] - 0s 3ms/step - loss: 18700974.0526 - val_loss: 20218458.0000\n",
            "Epoch 237/300\n",
            "37/37 [==============================] - 0s 3ms/step - loss: 18500475.0000 - val_loss: 20179772.0000\n",
            "Epoch 238/300\n",
            "37/37 [==============================] - 0s 3ms/step - loss: 17675532.4737 - val_loss: 20169058.0000\n",
            "Epoch 239/300\n",
            "37/37 [==============================] - 0s 3ms/step - loss: 18700631.4211 - val_loss: 20164106.0000\n",
            "Epoch 240/300\n",
            "37/37 [==============================] - 0s 4ms/step - loss: 18447683.4474 - val_loss: 20168458.0000\n",
            "Epoch 241/300\n",
            "37/37 [==============================] - 0s 3ms/step - loss: 18305868.5000 - val_loss: 20150130.0000\n",
            "Epoch 242/300\n",
            "37/37 [==============================] - 0s 4ms/step - loss: 18644647.4211 - val_loss: 20134436.0000\n",
            "Epoch 243/300\n",
            "37/37 [==============================] - 0s 3ms/step - loss: 18906106.2105 - val_loss: 20125432.0000\n",
            "Epoch 244/300\n",
            "37/37 [==============================] - 0s 3ms/step - loss: 18498450.3684 - val_loss: 20108898.0000\n",
            "Epoch 245/300\n",
            "37/37 [==============================] - 0s 3ms/step - loss: 17851875.2368 - val_loss: 20125408.0000\n",
            "Epoch 246/300\n",
            "37/37 [==============================] - 0s 3ms/step - loss: 18896463.5789 - val_loss: 20213470.0000\n",
            "Epoch 247/300\n",
            "37/37 [==============================] - 0s 3ms/step - loss: 18358295.0789 - val_loss: 20114704.0000\n",
            "Epoch 248/300\n",
            "37/37 [==============================] - 0s 3ms/step - loss: 18263422.9474 - val_loss: 20065572.0000\n",
            "Epoch 249/300\n",
            "37/37 [==============================] - 0s 3ms/step - loss: 18578389.4737 - val_loss: 20089746.0000\n",
            "Epoch 250/300\n",
            "37/37 [==============================] - 0s 4ms/step - loss: 19130003.0526 - val_loss: 20068902.0000\n",
            "Epoch 251/300\n",
            "37/37 [==============================] - 0s 3ms/step - loss: 18277311.3421 - val_loss: 20099106.0000\n",
            "Epoch 252/300\n",
            "37/37 [==============================] - 0s 3ms/step - loss: 17985781.4211 - val_loss: 20027764.0000\n",
            "Epoch 253/300\n",
            "37/37 [==============================] - 0s 3ms/step - loss: 18701222.5263 - val_loss: 20034924.0000\n",
            "Epoch 254/300\n",
            "37/37 [==============================] - 0s 3ms/step - loss: 18869484.4474 - val_loss: 20027874.0000\n",
            "Epoch 255/300\n",
            "37/37 [==============================] - 0s 3ms/step - loss: 17887601.3947 - val_loss: 20013102.0000\n",
            "Epoch 256/300\n",
            "37/37 [==============================] - 0s 4ms/step - loss: 18965269.0000 - val_loss: 20027812.0000\n",
            "Epoch 257/300\n",
            "37/37 [==============================] - 0s 3ms/step - loss: 17875499.1316 - val_loss: 19995532.0000\n",
            "Epoch 258/300\n",
            "37/37 [==============================] - 0s 3ms/step - loss: 18575109.1316 - val_loss: 19996524.0000\n",
            "Epoch 259/300\n",
            "37/37 [==============================] - 0s 3ms/step - loss: 18394024.5789 - val_loss: 19986966.0000\n",
            "Epoch 260/300\n",
            "37/37 [==============================] - 0s 3ms/step - loss: 18140973.8684 - val_loss: 19963584.0000\n",
            "Epoch 261/300\n",
            "37/37 [==============================] - 0s 3ms/step - loss: 18515874.4737 - val_loss: 20023922.0000\n",
            "Epoch 262/300\n",
            "37/37 [==============================] - 0s 3ms/step - loss: 19081236.7368 - val_loss: 19985314.0000\n",
            "Epoch 263/300\n",
            "37/37 [==============================] - 0s 3ms/step - loss: 18454780.3684 - val_loss: 19967578.0000\n",
            "Epoch 264/300\n",
            "37/37 [==============================] - 0s 3ms/step - loss: 18597029.0526 - val_loss: 20099702.0000\n",
            "Epoch 265/300\n",
            "37/37 [==============================] - 0s 3ms/step - loss: 19118430.1579 - val_loss: 19955670.0000\n",
            "Epoch 266/300\n",
            "37/37 [==============================] - 0s 3ms/step - loss: 18930765.3684 - val_loss: 19934036.0000\n",
            "Epoch 267/300\n",
            "37/37 [==============================] - 0s 3ms/step - loss: 17968777.4474 - val_loss: 19916016.0000\n",
            "Epoch 268/300\n",
            "37/37 [==============================] - 0s 3ms/step - loss: 17549653.7368 - val_loss: 19892422.0000\n",
            "Epoch 269/300\n",
            "37/37 [==============================] - 0s 3ms/step - loss: 18711295.0526 - val_loss: 19888038.0000\n",
            "Epoch 270/300\n",
            "37/37 [==============================] - 0s 3ms/step - loss: 18735595.2105 - val_loss: 19972788.0000\n",
            "Epoch 271/300\n",
            "37/37 [==============================] - 0s 3ms/step - loss: 18281367.0526 - val_loss: 19877644.0000\n",
            "Epoch 272/300\n",
            "37/37 [==============================] - 0s 3ms/step - loss: 17991228.9211 - val_loss: 19937508.0000\n",
            "Epoch 273/300\n",
            "37/37 [==============================] - 0s 3ms/step - loss: 18549281.3684 - val_loss: 19917168.0000\n",
            "Epoch 274/300\n",
            "37/37 [==============================] - 0s 4ms/step - loss: 18476062.1053 - val_loss: 19882782.0000\n",
            "Epoch 275/300\n",
            "37/37 [==============================] - 0s 3ms/step - loss: 18606725.8421 - val_loss: 19821846.0000\n",
            "Epoch 276/300\n",
            "37/37 [==============================] - 0s 3ms/step - loss: 18466746.4737 - val_loss: 19819538.0000\n",
            "Epoch 277/300\n",
            "37/37 [==============================] - 0s 3ms/step - loss: 18162646.6053 - val_loss: 19838674.0000\n",
            "Epoch 278/300\n",
            "37/37 [==============================] - 0s 3ms/step - loss: 18290724.0000 - val_loss: 19801388.0000\n",
            "Epoch 279/300\n",
            "37/37 [==============================] - 0s 4ms/step - loss: 18322822.4737 - val_loss: 19796064.0000\n",
            "Epoch 280/300\n",
            "37/37 [==============================] - 0s 3ms/step - loss: 17900308.6842 - val_loss: 19787208.0000\n",
            "Epoch 281/300\n",
            "37/37 [==============================] - 0s 3ms/step - loss: 18517929.7368 - val_loss: 19787254.0000\n",
            "Epoch 282/300\n",
            "37/37 [==============================] - 0s 3ms/step - loss: 18492488.0000 - val_loss: 19774956.0000\n",
            "Epoch 283/300\n",
            "37/37 [==============================] - 0s 3ms/step - loss: 18164862.0000 - val_loss: 19759928.0000\n",
            "Epoch 284/300\n",
            "37/37 [==============================] - 0s 3ms/step - loss: 17672406.9474 - val_loss: 19781624.0000\n",
            "Epoch 285/300\n",
            "37/37 [==============================] - 0s 3ms/step - loss: 18030520.7895 - val_loss: 19771346.0000\n",
            "Epoch 286/300\n",
            "37/37 [==============================] - 0s 4ms/step - loss: 17801897.8947 - val_loss: 19759198.0000\n",
            "Epoch 287/300\n",
            "37/37 [==============================] - 0s 3ms/step - loss: 18432346.7895 - val_loss: 19749266.0000\n",
            "Epoch 288/300\n",
            "37/37 [==============================] - 0s 3ms/step - loss: 18041444.7895 - val_loss: 19756212.0000\n",
            "Epoch 289/300\n",
            "37/37 [==============================] - 0s 3ms/step - loss: 18452567.3158 - val_loss: 19722038.0000\n",
            "Epoch 290/300\n",
            "37/37 [==============================] - 0s 3ms/step - loss: 18136664.1053 - val_loss: 19753590.0000\n",
            "Epoch 291/300\n",
            "37/37 [==============================] - 0s 3ms/step - loss: 18305392.7368 - val_loss: 19710918.0000\n",
            "Epoch 292/300\n",
            "37/37 [==============================] - 0s 4ms/step - loss: 18209034.3684 - val_loss: 19717108.0000\n",
            "Epoch 293/300\n",
            "37/37 [==============================] - 0s 3ms/step - loss: 18218414.8421 - val_loss: 19705372.0000\n",
            "Epoch 294/300\n",
            "37/37 [==============================] - 0s 3ms/step - loss: 18458192.4737 - val_loss: 19785846.0000\n",
            "Epoch 295/300\n",
            "37/37 [==============================] - 0s 3ms/step - loss: 17975606.5263 - val_loss: 19689312.0000\n",
            "Epoch 296/300\n",
            "37/37 [==============================] - 0s 3ms/step - loss: 18132607.1842 - val_loss: 19695198.0000\n",
            "Epoch 297/300\n",
            "37/37 [==============================] - 0s 3ms/step - loss: 18424273.3684 - val_loss: 19683294.0000\n",
            "Epoch 298/300\n",
            "37/37 [==============================] - 0s 3ms/step - loss: 18336011.6316 - val_loss: 19666804.0000\n",
            "Epoch 299/300\n",
            "37/37 [==============================] - 0s 4ms/step - loss: 18485414.9474 - val_loss: 19659450.0000\n",
            "Epoch 300/300\n",
            "37/37 [==============================] - 0s 3ms/step - loss: 17433621.1316 - val_loss: 19719004.0000\n"
          ],
          "name": "stdout"
        },
        {
          "output_type": "execute_result",
          "data": {
            "text/plain": [
              "<tensorflow.python.keras.callbacks.History at 0x7f0f3050ae90>"
            ]
          },
          "metadata": {
            "tags": []
          },
          "execution_count": 44
        }
      ]
    },
    {
      "cell_type": "code",
      "metadata": {
        "id": "Hn6beQTLFPsq"
      },
      "source": [
        "kayipVerisi = pd.DataFrame(model.history.history)"
      ],
      "execution_count": 45,
      "outputs": []
    },
    {
      "cell_type": "code",
      "metadata": {
        "colab": {
          "base_uri": "https://localhost:8080/",
          "height": 202
        },
        "id": "N5g4zTP1IUKJ",
        "outputId": "4e33525c-01ee-4846-95fa-657fcb620db1"
      },
      "source": [
        "kayipVerisi.head()"
      ],
      "execution_count": 46,
      "outputs": [
        {
          "output_type": "execute_result",
          "data": {
            "text/html": [
              "<div>\n",
              "<style scoped>\n",
              "    .dataframe tbody tr th:only-of-type {\n",
              "        vertical-align: middle;\n",
              "    }\n",
              "\n",
              "    .dataframe tbody tr th {\n",
              "        vertical-align: top;\n",
              "    }\n",
              "\n",
              "    .dataframe thead th {\n",
              "        text-align: right;\n",
              "    }\n",
              "</style>\n",
              "<table border=\"1\" class=\"dataframe\">\n",
              "  <thead>\n",
              "    <tr style=\"text-align: right;\">\n",
              "      <th></th>\n",
              "      <th>loss</th>\n",
              "      <th>val_loss</th>\n",
              "    </tr>\n",
              "  </thead>\n",
              "  <tbody>\n",
              "    <tr>\n",
              "      <th>0</th>\n",
              "      <td>672142208.0</td>\n",
              "      <td>688096128.0</td>\n",
              "    </tr>\n",
              "    <tr>\n",
              "      <th>1</th>\n",
              "      <td>672102464.0</td>\n",
              "      <td>688014656.0</td>\n",
              "    </tr>\n",
              "    <tr>\n",
              "      <th>2</th>\n",
              "      <td>671916480.0</td>\n",
              "      <td>687633024.0</td>\n",
              "    </tr>\n",
              "    <tr>\n",
              "      <th>3</th>\n",
              "      <td>671088384.0</td>\n",
              "      <td>685990720.0</td>\n",
              "    </tr>\n",
              "    <tr>\n",
              "      <th>4</th>\n",
              "      <td>667877888.0</td>\n",
              "      <td>680183232.0</td>\n",
              "    </tr>\n",
              "  </tbody>\n",
              "</table>\n",
              "</div>"
            ],
            "text/plain": [
              "          loss     val_loss\n",
              "0  672142208.0  688096128.0\n",
              "1  672102464.0  688014656.0\n",
              "2  671916480.0  687633024.0\n",
              "3  671088384.0  685990720.0\n",
              "4  667877888.0  680183232.0"
            ]
          },
          "metadata": {
            "tags": []
          },
          "execution_count": 46
        }
      ]
    },
    {
      "cell_type": "code",
      "metadata": {
        "colab": {
          "base_uri": "https://localhost:8080/",
          "height": 293
        },
        "id": "_396i8EFIWDQ",
        "outputId": "3bc87a11-681e-4c52-9c7c-492127219f65"
      },
      "source": [
        "kayipVerisi.plot()"
      ],
      "execution_count": 47,
      "outputs": [
        {
          "output_type": "execute_result",
          "data": {
            "text/plain": [
              "<matplotlib.axes._subplots.AxesSubplot at 0x7f0f3014c390>"
            ]
          },
          "metadata": {
            "tags": []
          },
          "execution_count": 47
        },
        {
          "output_type": "display_data",
          "data": {
            "image/png": "[encoded data removed]",
            "text/plain": [
              "<Figure size 432x288 with 1 Axes>"
            ]
          },
          "metadata": {
            "tags": [],
            "needs_background": "light"
          }
        }
      ]
    },
    {
      "cell_type": "code",
      "metadata": {
        "colab": {
          "base_uri": "https://localhost:8080/",
          "height": 387
        },
        "id": "3mYTIwYqIX2J",
        "outputId": "850c4ed4-33d2-48e1-d149-8fbf74fb6b83"
      },
      "source": [
        "sbn.displot(kayipVerisi)"
      ],
      "execution_count": 48,
      "outputs": [
        {
          "output_type": "execute_result",
          "data": {
            "text/plain": [
              "<seaborn.axisgrid.FacetGrid at 0x7f0f30071750>"
            ]
          },
          "metadata": {
            "tags": []
          },
          "execution_count": 48
        },
        {
          "output_type": "display_data",
          "data": {
            "image/png": "[encoded data removed]",
            "text/plain": [
              "<Figure size 435.25x360 with 1 Axes>"
            ]
          },
          "metadata": {
            "tags": [],
            "needs_background": "light"
          }
        }
      ]
    },
    {
      "cell_type": "code",
      "metadata": {
        "id": "hbwGETTGIoKZ"
      },
      "source": [
        "from sklearn.metrics import mean_squared_error , mean_absolute_error"
      ],
      "execution_count": 49,
      "outputs": []
    },
    {
      "cell_type": "code",
      "metadata": {
        "id": "UiVm_Xe8I9d6"
      },
      "source": [
        "tahminDizisi = model.predict(x_test)"
      ],
      "execution_count": 50,
      "outputs": []
    },
    {
      "cell_type": "code",
      "metadata": {
        "colab": {
          "base_uri": "https://localhost:8080/"
        },
        "id": "4OnB2ShWJCL6",
        "outputId": "6e9b92a8-2f82-42eb-e78d-688067333ebd"
      },
      "source": [
        "tahminDizisi"
      ],
      "execution_count": 51,
      "outputs": [
        {
          "output_type": "execute_result",
          "data": {
            "text/plain": [
              "array([[22545.064],\n",
              "       [22893.49 ],\n",
              "       [25484.086],\n",
              "       ...,\n",
              "       [26617.61 ],\n",
              "       [15326.108],\n",
              "       [25027.639]], dtype=float32)"
            ]
          },
          "metadata": {
            "tags": []
          },
          "execution_count": 51
        }
      ]
    },
    {
      "cell_type": "code",
      "metadata": {
        "colab": {
          "base_uri": "https://localhost:8080/"
        },
        "id": "II8ZRMgcJDzy",
        "outputId": "02f7d2da-de83-40a9-d791-2859528b5ecf"
      },
      "source": [
        "mean_absolute_error(y_test , tahminDizisi)"
      ],
      "execution_count": 52,
      "outputs": [
        {
          "output_type": "execute_result",
          "data": {
            "text/plain": [
              "3174.173219997454"
            ]
          },
          "metadata": {
            "tags": []
          },
          "execution_count": 52
        }
      ]
    },
    {
      "cell_type": "code",
      "metadata": {
        "colab": {
          "base_uri": "https://localhost:8080/",
          "height": 294
        },
        "id": "02ZKGuRUJOET",
        "outputId": "f9fe2571-d5e3-4584-d103-9ff45aa97048"
      },
      "source": [
        "dataFrame.describe()"
      ],
      "execution_count": 53,
      "outputs": [
        {
          "output_type": "execute_result",
          "data": {
            "text/html": [
              "<div>\n",
              "<style scoped>\n",
              "    .dataframe tbody tr th:only-of-type {\n",
              "        vertical-align: middle;\n",
              "    }\n",
              "\n",
              "    .dataframe tbody tr th {\n",
              "        vertical-align: top;\n",
              "    }\n",
              "\n",
              "    .dataframe thead th {\n",
              "        text-align: right;\n",
              "    }\n",
              "</style>\n",
              "<table border=\"1\" class=\"dataframe\">\n",
              "  <thead>\n",
              "    <tr style=\"text-align: right;\">\n",
              "      <th></th>\n",
              "      <th>year</th>\n",
              "      <th>price</th>\n",
              "      <th>mileage</th>\n",
              "      <th>tax</th>\n",
              "      <th>mpg</th>\n",
              "      <th>engineSize</th>\n",
              "    </tr>\n",
              "  </thead>\n",
              "  <tbody>\n",
              "    <tr>\n",
              "      <th>count</th>\n",
              "      <td>12987.000000</td>\n",
              "      <td>12987.000000</td>\n",
              "      <td>12987.000000</td>\n",
              "      <td>12987.000000</td>\n",
              "      <td>12987.000000</td>\n",
              "      <td>12987.000000</td>\n",
              "    </tr>\n",
              "    <tr>\n",
              "      <th>mean</th>\n",
              "      <td>2017.285516</td>\n",
              "      <td>24074.855779</td>\n",
              "      <td>22133.367367</td>\n",
              "      <td>129.676215</td>\n",
              "      <td>55.438392</td>\n",
              "      <td>2.051059</td>\n",
              "    </tr>\n",
              "    <tr>\n",
              "      <th>std</th>\n",
              "      <td>2.189633</td>\n",
              "      <td>9866.601115</td>\n",
              "      <td>21197.472376</td>\n",
              "      <td>65.167429</td>\n",
              "      <td>15.025902</td>\n",
              "      <td>0.532313</td>\n",
              "    </tr>\n",
              "    <tr>\n",
              "      <th>min</th>\n",
              "      <td>1997.000000</td>\n",
              "      <td>650.000000</td>\n",
              "      <td>1.000000</td>\n",
              "      <td>0.000000</td>\n",
              "      <td>1.100000</td>\n",
              "      <td>0.000000</td>\n",
              "    </tr>\n",
              "    <tr>\n",
              "      <th>25%</th>\n",
              "      <td>2016.000000</td>\n",
              "      <td>17355.000000</td>\n",
              "      <td>6320.000000</td>\n",
              "      <td>125.000000</td>\n",
              "      <td>45.600000</td>\n",
              "      <td>1.700000</td>\n",
              "    </tr>\n",
              "    <tr>\n",
              "      <th>50%</th>\n",
              "      <td>2018.000000</td>\n",
              "      <td>22299.000000</td>\n",
              "      <td>15371.000000</td>\n",
              "      <td>145.000000</td>\n",
              "      <td>56.500000</td>\n",
              "      <td>2.000000</td>\n",
              "    </tr>\n",
              "    <tr>\n",
              "      <th>75%</th>\n",
              "      <td>2019.000000</td>\n",
              "      <td>28706.000000</td>\n",
              "      <td>31986.500000</td>\n",
              "      <td>145.000000</td>\n",
              "      <td>64.200000</td>\n",
              "      <td>2.100000</td>\n",
              "    </tr>\n",
              "    <tr>\n",
              "      <th>max</th>\n",
              "      <td>2020.000000</td>\n",
              "      <td>65990.000000</td>\n",
              "      <td>259000.000000</td>\n",
              "      <td>580.000000</td>\n",
              "      <td>217.300000</td>\n",
              "      <td>6.200000</td>\n",
              "    </tr>\n",
              "  </tbody>\n",
              "</table>\n",
              "</div>"
            ],
            "text/plain": [
              "               year         price  ...           mpg    engineSize\n",
              "count  12987.000000  12987.000000  ...  12987.000000  12987.000000\n",
              "mean    2017.285516  24074.855779  ...     55.438392      2.051059\n",
              "std        2.189633   9866.601115  ...     15.025902      0.532313\n",
              "min     1997.000000    650.000000  ...      1.100000      0.000000\n",
              "25%     2016.000000  17355.000000  ...     45.600000      1.700000\n",
              "50%     2018.000000  22299.000000  ...     56.500000      2.000000\n",
              "75%     2019.000000  28706.000000  ...     64.200000      2.100000\n",
              "max     2020.000000  65990.000000  ...    217.300000      6.200000\n",
              "\n",
              "[8 rows x 6 columns]"
            ]
          },
          "metadata": {
            "tags": []
          },
          "execution_count": 53
        }
      ]
    },
    {
      "cell_type": "code",
      "metadata": {
        "colab": {
          "base_uri": "https://localhost:8080/"
        },
        "id": "awliXfBRKT7s",
        "outputId": "166d9662-ea79-439c-9aec-f232f6e692af"
      },
      "source": [
        "dataFrame.iloc[2]"
      ],
      "execution_count": 54,
      "outputs": [
        {
          "output_type": "execute_result",
          "data": {
            "text/plain": [
              "year           2020.0\n",
              "price         65980.0\n",
              "mileage        3999.0\n",
              "tax             145.0\n",
              "mpg              28.0\n",
              "engineSize        4.0\n",
              "Name: 3191, dtype: float64"
            ]
          },
          "metadata": {
            "tags": []
          },
          "execution_count": 54
        }
      ]
    },
    {
      "cell_type": "code",
      "metadata": {
        "id": "lhvLPl9MJXK7"
      },
      "source": [
        "yeniArabaSeries= dataFrame.drop(\"price\" ,axis=1).iloc[2]"
      ],
      "execution_count": 55,
      "outputs": []
    },
    {
      "cell_type": "code",
      "metadata": {
        "colab": {
          "base_uri": "https://localhost:8080/"
        },
        "id": "fXRGD4f4Kd_8",
        "outputId": "d76e36b5-d022-442a-ca0a-5bc6e3bb4217"
      },
      "source": [
        "type(yeniArabaSeries)"
      ],
      "execution_count": 56,
      "outputs": [
        {
          "output_type": "execute_result",
          "data": {
            "text/plain": [
              "pandas.core.series.Series"
            ]
          },
          "metadata": {
            "tags": []
          },
          "execution_count": 56
        }
      ]
    },
    {
      "cell_type": "code",
      "metadata": {
        "id": "OtnIe71pKhSg"
      },
      "source": [
        "yeniArabaSeries  = scaler.transform(yeniArabaSeries.values.reshape(-1,5))"
      ],
      "execution_count": 57,
      "outputs": []
    },
    {
      "cell_type": "code",
      "metadata": {
        "colab": {
          "base_uri": "https://localhost:8080/"
        },
        "id": "TrsolXHOK3kh",
        "outputId": "ea481170-8965-4192-a849-1b91237e9b26"
      },
      "source": [
        "model.predict(yeniArabaSeries)"
      ],
      "execution_count": 58,
      "outputs": [
        {
          "output_type": "execute_result",
          "data": {
            "text/plain": [
              "array([[63882.645]], dtype=float32)"
            ]
          },
          "metadata": {
            "tags": []
          },
          "execution_count": 58
        }
      ]
    },
    {
      "cell_type": "code",
      "metadata": {
        "id": "GE3p-Vf8K7mo"
      },
      "source": [
        ""
      ],
      "execution_count": 58,
      "outputs": []
    },
    {
      "cell_type": "code",
      "metadata": {
        "id": "SR41ryCWLyh0"
      },
      "source": [
        "model.save(\"mercedes_modeli.h5\")"
      ],
      "execution_count": 59,
      "outputs": []
    },
    {
      "cell_type": "code",
      "metadata": {
        "id": "sFU1X2DDcmLl"
      },
      "source": [
        ""
      ],
      "execution_count": 59,
      "outputs": []
    }
  ]
}