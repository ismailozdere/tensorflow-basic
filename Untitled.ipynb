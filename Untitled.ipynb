{
 "cells": [
  {
   "cell_type": "code",
   "execution_count": 29,
   "metadata": {},
   "outputs": [
    {
     "name": "stdout",
     "output_type": "stream",
     "text": [
      "yav sen milyar milyon ne yaptın\n"
     ]
    }
   ],
   "source": [
    "print(\"yav sen milyar milyon ne yaptın\")"
   ]
  },
  {
   "cell_type": "code",
   "execution_count": 30,
   "metadata": {},
   "outputs": [
    {
     "name": "stdout",
     "output_type": "stream",
     "text": [
      "hello word\n"
     ]
    }
   ],
   "source": [
    "print(\"hello word\")"
   ]
  },
  {
   "cell_type": "code",
   "execution_count": 12,
   "metadata": {},
   "outputs": [
    {
     "name": "stdout",
     "output_type": "stream",
     "text": [
      "biliyorsun bu işi \n",
      "biliyorsun bu işi \n",
      "biliyorsun bu işi \n",
      "biliyorsun bu işi \n",
      "biliyorsun bu işi \n",
      "biliyorsun bu işi \n",
      "biliyorsun bu işi \n",
      "biliyorsun bu işi \n",
      "biliyorsun bu işi \n",
      "biliyorsun bu işi \n"
     ]
    }
   ],
   "source": [
    "for i in range(0,10,1):\n",
    "    print(\"biliyorsun bu işi \")"
   ]
  },
  {
   "cell_type": "code",
   "execution_count": 26,
   "metadata": {},
   "outputs": [
    {
     "name": "stdout",
     "output_type": "stream",
     "text": [
      "m\n",
      "e\n",
      "r\n",
      "h\n",
      "b\n",
      " \n",
      "k\n",
      "r\n",
      "l\n"
     ]
    }
   ],
   "source": [
    "metin=\"merhaba kral\"\n",
    "for x in metin :\n",
    "    if x==\"a\":\n",
    "        continue\n",
    "    print(x)"
   ]
  },
  {
   "cell_type": "code",
   "execution_count": 28,
   "metadata": {},
   "outputs": [
    {
     "name": "stdout",
     "output_type": "stream",
     "text": [
      "3\n"
     ]
    }
   ],
   "source": [
    "import random \n",
    "rasgele =random.randrange(1,10)\n",
    "print(rasgele)"
   ]
  },
  {
   "cell_type": "code",
   "execution_count": 3,
   "metadata": {},
   "outputs": [
    {
     "name": "stdout",
     "output_type": "stream",
     "text": [
      "l \n"
     ]
    }
   ],
   "source": [
    "metin =\"helal \"\n",
    "print(metin[4:9])"
   ]
  },
  {
   "cell_type": "code",
   "execution_count": 4,
   "metadata": {},
   "outputs": [
    {
     "name": "stdout",
     "output_type": "stream",
     "text": [
      "sayi1 giriniz: 98\n",
      "sayi2 giriniz: 45\n",
      "sayi3 giriniz: 2\n",
      "en büyük sayı 98 ortanca sayı 45 en küçük sayı 2 \n"
     ]
    }
   ],
   "source": [
    "sayi1=int(input(\"sayi1 giriniz: \"))\n",
    "sayi2=int(input(\"sayi2 giriniz: \"))\n",
    "sayi3=int(input(\"sayi3 giriniz: \"))\n",
    "\n",
    "metin =\"en büyük sayı {} ortanca sayı {} en küçük sayı {} \"\n",
    "if sayi1==sayi2 and sayi1==sayi3:\n",
    "    print(\"sayılar eşittir\")\n",
    "elif  sayi1>sayi2 and sayi1>sayi2:\n",
    "    if sayi2>sayi3:\n",
    "        print(metin.format(sayi1 ,sayi2 ,sayi3))\n",
    "    else:\n",
    "        print(metin.format(sayi1, sayi3,sayi2))\n",
    "        \n",
    "elif sayi2>sayi1 and sayi2>sayi3:\n",
    "    if sayi3>sayi1:\n",
    "        print (metin.format(sayi2 ,sayi3 ,sayi1))\n",
    "    else:\n",
    "        print(metin.format(sayi2, sayi1,sayi3))\n",
    "    \n",
    "else :\n",
    "    if sayi1>sayi2:\n",
    "        print(metin.format(sayi3,sayi1,sayi2))\n",
    "    else:\n",
    "        print(metin.format(sayi3,sayi2,sayi1))\n",
    "        "
   ]
  },
  {
   "cell_type": "code",
   "execution_count": null,
   "metadata": {},
   "outputs": [],
   "source": []
  }
 ],
 "metadata": {
  "kernelspec": {
   "display_name": "Python 3",
   "language": "python",
   "name": "python3"
  },
  "language_info": {
   "codemirror_mode": {
    "name": "ipython",
    "version": 3
   },
   "file_extension": ".py",
   "mimetype": "text/x-python",
   "name": "python",
   "nbconvert_exporter": "python",
   "pygments_lexer": "ipython3",
   "version": "3.8.5"
  }
 },
 "nbformat": 4,
 "nbformat_minor": 4
}
